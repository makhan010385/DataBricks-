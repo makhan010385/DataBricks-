{
  "nbformat": 4,
  "nbformat_minor": 0,
  "metadata": {
    "colab": {
      "provenance": []
    },
    "kernelspec": {
      "name": "python3",
      "display_name": "Python 3"
    },
    "language_info": {
      "name": "python"
    }
  },
  "cells": [
    {
      "cell_type": "markdown",
      "source": [
        "**Part 1** — Data Loading & Exploration"
      ],
      "metadata": {
        "id": "m6sD4jxNkk45"
      }
    },
    {
      "cell_type": "code",
      "execution_count": 4,
      "metadata": {
        "id": "jm6hyUT9iCQS"
      },
      "outputs": [],
      "source": [
        "#Import required libraries and start SparkSession\n",
        "from pyspark.sql import SparkSession\n",
        "\n",
        "spark = SparkSession.builder \\\n",
        "    .appName(\"Loan Dataset Analysis\") \\\n",
        "    .getOrCreate()"
      ]
    },
    {
      "cell_type": "code",
      "source": [
        "#Load the dataset (loan.csv) with headers\n",
        "df = spark.read.csv(\"loan.csv\", header=True, inferSchema=True)"
      ],
      "metadata": {
        "id": "M9cce3Vbjmdq"
      },
      "execution_count": 5,
      "outputs": []
    },
    {
      "cell_type": "code",
      "source": [
        "#Display the first 10 rows\n",
        "print(\"First 10 rows of the dataset:\")\n",
        "df.show(10, truncate=False)"
      ],
      "metadata": {
        "colab": {
          "base_uri": "https://localhost:8080/"
        },
        "id": "1eBhYDxEj9X1",
        "outputId": "00fb39b0-e361-480f-b0af-b3ccda6a7d16"
      },
      "execution_count": 9,
      "outputs": [
        {
          "output_type": "stream",
          "name": "stdout",
          "text": [
            "First 10 rows of the dataset:\n",
            "+-----------+---+------+-----------------+--------------+-----------+------+-----------+-------------+-------------+-----------+-------+------------+----------------+------------------+\n",
            "|Customer_ID|Age|Gender|Occupation       |Marital Status|Family Size|Income|Expenditure|Use Frequency|Loan Category|Loan Amount|Overdue| Debt Record| Returned Cheque| Dishonour of Bill|\n",
            "+-----------+---+------+-----------------+--------------+-----------+------+-----------+-------------+-------------+-----------+-------+------------+----------------+------------------+\n",
            "|IB14001    |30 |MALE  |BANK MANAGER     |SINGLE        |4          |50000 |22199      |6            |HOUSING      | 10,00,000 |5      |42,898      |6               |9                 |\n",
            "|IB14008    |44 |MALE  |PROFESSOR        |MARRIED       |6          |51000 |19999      |4            |SHOPPING     |50,000     |3      |33,999      |1               |5                 |\n",
            "|IB14012    |30 |FEMALE|DENTIST          |SINGLE        |3          |58450 |27675      |5            |TRAVELLING   |75,000     |6      |20,876      |3               |1                 |\n",
            "|IB14018    |29 |MALE  |TEACHER          |MARRIED       |5          |45767 |12787      |3            |GOLD LOAN    | 6,00,000  |7      |11,000      |0               |4                 |\n",
            "|IB14022    |34 |MALE  |POLICE           |SINGLE        |4          |43521 |11999      |3            |AUTOMOBILE   | 2,00,000  |2      |43,898      |1               |2                 |\n",
            "|IB14024    |55 |FEMALE|NURSE            |MARRIED       |6          |34999 |19888      |4            |AUTOMOBILE   |47,787     |1      |50,000      |0               |3                 |\n",
            "|IB14025    |39 |FEMALE|TEACHER          |MARRIED       |6          |46619 |18675      |4            |HOUSING      | 12,09,867 |8      |29,999      |6               |8                 |\n",
            "|IB14027    |51 |MALE  |SYSTEM MANAGER   |MARRIED       |3          |49999 |19111      |5            |RESTAURANTS  |60,676     |8      |13,000      |2               |5                 |\n",
            "|IB14029    |24 |FEMALE|TEACHER          |SINGLE        |3          |45008 |17454      |4            |AUTOMOBILE   | 3,99,435  |9      |51,987      |4               |7                 |\n",
            "|IB14031    |37 |FEMALE|SOFTWARE ENGINEER|MARRIED       |5          |55999 |23999      |5            |AUTOMOBILE   |60,999     |2      |0           |5               |3                 |\n",
            "+-----------+---+------+-----------------+--------------+-----------+------+-----------+-------------+-------------+-----------+-------+------------+----------------+------------------+\n",
            "only showing top 10 rows\n",
            "\n"
          ]
        }
      ]
    },
    {
      "cell_type": "code",
      "source": [
        " #Show the schema\n",
        "print(\"Schema of the DataFrame:\")\n",
        "df.printSchema()\n"
      ],
      "metadata": {
        "colab": {
          "base_uri": "https://localhost:8080/"
        },
        "id": "PITKfU4FkQsV",
        "outputId": "d0011efb-9522-4164-f906-697456b76a12"
      },
      "execution_count": 10,
      "outputs": [
        {
          "output_type": "stream",
          "name": "stdout",
          "text": [
            "Schema of the DataFrame:\n",
            "root\n",
            " |-- Customer_ID: string (nullable = true)\n",
            " |-- Age: integer (nullable = true)\n",
            " |-- Gender: string (nullable = true)\n",
            " |-- Occupation: string (nullable = true)\n",
            " |-- Marital Status: string (nullable = true)\n",
            " |-- Family Size: integer (nullable = true)\n",
            " |-- Income: integer (nullable = true)\n",
            " |-- Expenditure: integer (nullable = true)\n",
            " |-- Use Frequency: integer (nullable = true)\n",
            " |-- Loan Category: string (nullable = true)\n",
            " |-- Loan Amount: string (nullable = true)\n",
            " |-- Overdue: integer (nullable = true)\n",
            " |--  Debt Record: string (nullable = true)\n",
            " |--  Returned Cheque: integer (nullable = true)\n",
            " |--  Dishonour of Bill: integer (nullable = true)\n",
            "\n"
          ]
        }
      ]
    },
    {
      "cell_type": "code",
      "source": [
        "#Count total number of records\n",
        "total_records = df.count()\n",
        "print(f\"Total number of records: {total_records}\")"
      ],
      "metadata": {
        "colab": {
          "base_uri": "https://localhost:8080/"
        },
        "id": "2XDe8TLWkZDB",
        "outputId": "67e48b0f-c8ed-4286-87e2-0f518c57c71b"
      },
      "execution_count": 11,
      "outputs": [
        {
          "output_type": "stream",
          "name": "stdout",
          "text": [
            "Total number of records: 500\n"
          ]
        }
      ]
    },
    {
      "cell_type": "markdown",
      "source": [
        "**Part 2** — Data Cleaning"
      ],
      "metadata": {
        "id": "JdT5pv-vk5GN"
      }
    },
    {
      "cell_type": "code",
      "source": [
        "\n",
        "# Remove duplicate rows\n",
        "df_clean = df.dropDuplicates()"
      ],
      "metadata": {
        "id": "yM-T6dI5k9if"
      },
      "execution_count": 12,
      "outputs": []
    },
    {
      "cell_type": "code",
      "source": [
        "# Drop rows with missing 'loan_status' or 'loan_amnt'\n",
        "df_clean = df_clean.dropna(subset=[\"Loan Category\", \"Loan Amount\"])\n"
      ],
      "metadata": {
        "id": "_wIVLc8tlQht"
      },
      "execution_count": 14,
      "outputs": []
    },
    {
      "cell_type": "code",
      "source": [
        "from pyspark.sql.functions import col\n",
        "\n",
        "# Convert numeric columns to correct data type (loan_amnt → integer)\n",
        "df_clean = df_clean.withColumn(\"Loan Amount\", col(\"Loan Amount\").cast(\"integer\"))"
      ],
      "metadata": {
        "id": "3E8EQtOrlcxf"
      },
      "execution_count": 20,
      "outputs": []
    },
    {
      "cell_type": "code",
      "source": [
        "# Verify cleaning\n",
        "print(\"After cleaning:\")\n",
        "df_clean.show(10, truncate=False)"
      ],
      "metadata": {
        "colab": {
          "base_uri": "https://localhost:8080/"
        },
        "id": "nbCYHpPymrOc",
        "outputId": "f939f53e-c579-4d70-901f-b341be8f8068"
      },
      "execution_count": 21,
      "outputs": [
        {
          "output_type": "stream",
          "name": "stdout",
          "text": [
            "After cleaning:\n",
            "+-----------+---+------+---------------------+--------------+-----------+------+-----------+-------------+------------------+-----------+-------+------------+----------------+------------------+\n",
            "|Customer_ID|Age|Gender|Occupation           |Marital Status|Family Size|Income|Expenditure|Use Frequency|Loan Category     |Loan Amount|Overdue| Debt Record| Returned Cheque| Dishonour of Bill|\n",
            "+-----------+---+------+---------------------+--------------+-----------+------+-----------+-------------+------------------+-----------+-------+------------+----------------+------------------+\n",
            "|IB14804    |30 |MALE  |BUSINESS             |SINGLE        |2          |53957 |34709      |7            |GOLD LOAN         |NULL       |8      |37815       |5               |8                 |\n",
            "|IB14697    |39 |FEMALE|NAVY                 |SINGLE        |4          |77699 |12482      |3            |AUTOMOBILE        |NULL       |9      |57206       |2               |8                 |\n",
            "|IB14898    |51 |FEMALE|SOFTWARE ENGINEER    |SINGLE        |3          |84966 |42591      |5            |TRAVELLING        |NULL       |4      |58257       |0               |9                 |\n",
            "|IB14109    |56 |MALE  |DRIVER               |MARRIED       |5          |30000 |15426      |7            |TRAVELLING        |NULL       |6      |20,000      |4               |6                 |\n",
            "|IB14267    |55 |FEMALE|ASSISTANT PROFESSOR  |MARRIED       |6          |34999 |19888      |4            |SHOPPING          |NULL       |1      |50,000      |0               |3                 |\n",
            "|IB14850    |42 |MALE  |AGRICULTURAL ENGINEER|MARRIED       |2          |86610 |45744      |4            |HOUSING           |NULL       |8      |28192       |0               |8                 |\n",
            "|IB14881    |58 |MALE  |ACCOUNTANT           |MARRIED       |4          |57555 |37068      |6            |HOME APPLIANCES   |NULL       |7      |70922       |3               |0                 |\n",
            "|1B14312    |21 |FEMALE|MANAGER              |SINGLE        |3          |42516 |24567      |7            |EDUCATIONAL LOAN  |NULL       |8      |89,652      |2               |3                 |\n",
            "|1B14315    |49 |MALE  |ASSISTANT PROFESSOR  |MARRIED       |5          |65214 |42589      |5            |HOUSING           |NULL       |5      |11,254      |1               |2                 |\n",
            "|IB14673    |28 |FEMALE|TEACHER              |MARRIED       |4          |41673 |19620      |3            |COMPUTER SOFTWARES|NULL       |4      |43174       |2               |8                 |\n",
            "+-----------+---+------+---------------------+--------------+-----------+------+-----------+-------------+------------------+-----------+-------+------------+----------------+------------------+\n",
            "only showing top 10 rows\n",
            "\n"
          ]
        }
      ]
    },
    {
      "cell_type": "code",
      "source": [
        "# Check schema after type conversion\n",
        "df_clean.printSchema()"
      ],
      "metadata": {
        "colab": {
          "base_uri": "https://localhost:8080/"
        },
        "id": "offkgIYdnz2T",
        "outputId": "e28da52b-c1b3-4265-bd62-a87c43f12402"
      },
      "execution_count": 22,
      "outputs": [
        {
          "output_type": "stream",
          "name": "stdout",
          "text": [
            "root\n",
            " |-- Customer_ID: string (nullable = true)\n",
            " |-- Age: integer (nullable = true)\n",
            " |-- Gender: string (nullable = true)\n",
            " |-- Occupation: string (nullable = true)\n",
            " |-- Marital Status: string (nullable = true)\n",
            " |-- Family Size: integer (nullable = true)\n",
            " |-- Income: integer (nullable = true)\n",
            " |-- Expenditure: integer (nullable = true)\n",
            " |-- Use Frequency: integer (nullable = true)\n",
            " |-- Loan Category: string (nullable = true)\n",
            " |-- Loan Amount: integer (nullable = true)\n",
            " |-- Overdue: integer (nullable = true)\n",
            " |--  Debt Record: string (nullable = true)\n",
            " |--  Returned Cheque: integer (nullable = true)\n",
            " |--  Dishonour of Bill: integer (nullable = true)\n",
            "\n"
          ]
        }
      ]
    },
    {
      "cell_type": "code",
      "source": [
        "# Count records after cleaning\n",
        "print(f\"Total records after cleaning: {df_clean.count()}\")"
      ],
      "metadata": {
        "colab": {
          "base_uri": "https://localhost:8080/"
        },
        "id": "b8uHFmJNn9Go",
        "outputId": "45497988-f7d4-4a92-84b4-d6da01917c0e"
      },
      "execution_count": 23,
      "outputs": [
        {
          "output_type": "stream",
          "name": "stdout",
          "text": [
            "Total records after cleaning: 500\n"
          ]
        }
      ]
    },
    {
      "cell_type": "markdown",
      "source": [
        "**Part 3** — Data Analysis"
      ],
      "metadata": {
        "id": "G-AENY9zoT49"
      }
    },
    {
      "cell_type": "code",
      "source": [
        "from pyspark.sql.functions import avg, count\n",
        "\n",
        "# Average loan amount for each loan category\n",
        "avg_loan_by_category = df_clean.groupBy(\"Loan Category\") \\\n",
        "    .agg(avg(col(\"Loan Amount\")).alias(\"avg_loan_amount\")) \\\n",
        "    .orderBy(\"avg_loan_amount\", ascending=False)\n",
        "\n",
        "print(\"Average Loan Amount by Loan Category:\")\n",
        "avg_loan_by_category.show(truncate=False)"
      ],
      "metadata": {
        "colab": {
          "base_uri": "https://localhost:8080/"
        },
        "id": "0ynHt2o-oYm_",
        "outputId": "b397b712-3a0d-4ed2-eae3-f38fab19e0c9"
      },
      "execution_count": 29,
      "outputs": [
        {
          "output_type": "stream",
          "name": "stdout",
          "text": [
            "Average Loan Amount by Loan Category:\n",
            "+------------------+---------------+\n",
            "|Loan Category     |avg_loan_amount|\n",
            "+------------------+---------------+\n",
            "|HOUSING           |NULL           |\n",
            "|TRAVELLING        |NULL           |\n",
            "|BOOK STORES       |NULL           |\n",
            "|AGRICULTURE       |NULL           |\n",
            "|GOLD LOAN         |NULL           |\n",
            "|EDUCATIONAL LOAN  |NULL           |\n",
            "|AUTOMOBILE        |NULL           |\n",
            "|BUSINESS          |NULL           |\n",
            "|COMPUTER SOFTWARES|NULL           |\n",
            "|DINNING           |NULL           |\n",
            "|SHOPPING          |NULL           |\n",
            "|RESTAURANTS       |NULL           |\n",
            "|ELECTRONICS       |NULL           |\n",
            "|BUILDING          |NULL           |\n",
            "|RESTAURANT        |NULL           |\n",
            "|HOME APPLIANCES   |NULL           |\n",
            "+------------------+---------------+\n",
            "\n"
          ]
        }
      ]
    },
    {
      "cell_type": "code",
      "source": [
        "# Count how many loans are overdue vs not overdue\n",
        "loan_status_count = df_clean.groupBy(\"Overdue\") \\\n",
        "    .agg(count(\"*\").alias(\"total_loans\")) \\\n",
        "    .orderBy(\"total_loans\", ascending=False)\n",
        "\n",
        "print(\"Loans by Overdue status:\")\n",
        "loan_status_count.show(truncate=False)"
      ],
      "metadata": {
        "colab": {
          "base_uri": "https://localhost:8080/"
        },
        "id": "0yPN0mg5ou4d",
        "outputId": "e4774820-d74b-464a-9b48-bb4b246fa76c"
      },
      "execution_count": 30,
      "outputs": [
        {
          "output_type": "stream",
          "name": "stdout",
          "text": [
            "Loans by Overdue status:\n",
            "+-------+-----------+\n",
            "|Overdue|total_loans|\n",
            "+-------+-----------+\n",
            "|6      |75         |\n",
            "|7      |65         |\n",
            "|1      |63         |\n",
            "|4      |63         |\n",
            "|5      |56         |\n",
            "|8      |48         |\n",
            "|2      |45         |\n",
            "|9      |43         |\n",
            "|3      |42         |\n",
            "+-------+-----------+\n",
            "\n"
          ]
        }
      ]
    },
    {
      "cell_type": "code",
      "source": [
        "# Top 5 loan categories by average income\n",
        "top5_categories = df_clean.groupBy(\"Loan Category\") \\\n",
        "    .agg(avg(col(\"Income\")).alias(\"avg_income\")) \\\n",
        "    .orderBy(\"avg_income\", ascending=False) \\\n",
        "    .limit(5)\n",
        "\n",
        "print(\"Top 5 Loan Categories by Average Income:\")\n",
        "top5_categories.show(truncate=False)"
      ],
      "metadata": {
        "colab": {
          "base_uri": "https://localhost:8080/"
        },
        "id": "6W0XLMRroxr3",
        "outputId": "08228590-ac14-4e50-9d9a-9088a2b8dff9"
      },
      "execution_count": 31,
      "outputs": [
        {
          "output_type": "stream",
          "name": "stdout",
          "text": [
            "Top 5 Loan Categories by Average Income:\n",
            "+------------------+------------------+\n",
            "|Loan Category     |avg_income        |\n",
            "+------------------+------------------+\n",
            "|COMPUTER SOFTWARES|134376.66666666666|\n",
            "|HOUSING           |74728.19354838709 |\n",
            "|GOLD LOAN         |70838.31506849315 |\n",
            "|BUSINESS          |70246.54166666667 |\n",
            "|BUILDING          |69700.16666666667 |\n",
            "+------------------+------------------+\n",
            "\n"
          ]
        }
      ]
    },
    {
      "cell_type": "markdown",
      "source": [
        "**Part 4** — Spark SQL"
      ],
      "metadata": {
        "id": "wriucAJKtoh-"
      }
    },
    {
      "cell_type": "code",
      "source": [
        "# Register DataFrame as a temporary SQL view\n",
        "df_clean.createOrReplaceTempView(\"loans\")"
      ],
      "metadata": {
        "id": "T7KYsIBMtuZp"
      },
      "execution_count": 32,
      "outputs": []
    },
    {
      "cell_type": "code",
      "source": [
        "# Loan category with the highest default (Overdue) rate\n",
        "highest_default_category = spark.sql(\"\"\"\n",
        "    SELECT\n",
        "        `Loan Category`,\n",
        "        (SUM(CASE WHEN Overdue = 'Yes' THEN 1 ELSE 0 END) * 100.0 / COUNT(*)) AS default_rate\n",
        "    FROM loans\n",
        "    GROUP BY `Loan Category`\n",
        "    ORDER BY default_rate DESC\n",
        "    LIMIT 1\n",
        "\"\"\")\n",
        "print(\"Loan Category with Highest Default Rate:\")\n",
        "highest_default_category.show(truncate=False)\n"
      ],
      "metadata": {
        "colab": {
          "base_uri": "https://localhost:8080/"
        },
        "id": "HQWUfrWjt3Yx",
        "outputId": "dfa627e4-b1ec-4d02-def8-95ff603c167f"
      },
      "execution_count": 33,
      "outputs": [
        {
          "output_type": "stream",
          "name": "stdout",
          "text": [
            "Loan Category with Highest Default Rate:\n",
            "+-------------+----------------+\n",
            "|Loan Category|default_rate    |\n",
            "+-------------+----------------+\n",
            "|HOUSING      |0.00000000000000|\n",
            "+-------------+----------------+\n",
            "\n"
          ]
        }
      ]
    },
    {
      "cell_type": "code",
      "source": [
        "# State with most charged-off loans (⚠ No state column in your data)\n",
        "# For demo, let's assume \"Occupation\" is a placeholder for a geographic field\n",
        "most_charged_off = spark.sql(\"\"\"\n",
        "    SELECT\n",
        "        Occupation,\n",
        "        COUNT(*) AS charged_off_loans\n",
        "    FROM loans\n",
        "    WHERE Overdue = 'Yes'\n",
        "    GROUP BY Occupation\n",
        "    ORDER BY charged_off_loans DESC\n",
        "    LIMIT 1\n",
        "\"\"\")\n",
        "print(\"Occupation (placeholder for State) with Most Charged-Off Loans:\")\n",
        "most_charged_off.show(truncate=False)"
      ],
      "metadata": {
        "colab": {
          "base_uri": "https://localhost:8080/"
        },
        "id": "-OVHMKpTt-Z9",
        "outputId": "f3b1f14f-73a7-4d69-d1d2-c0370a0a017e"
      },
      "execution_count": 34,
      "outputs": [
        {
          "output_type": "stream",
          "name": "stdout",
          "text": [
            "Occupation (placeholder for State) with Most Charged-Off Loans:\n",
            "+----------+-----------------+\n",
            "|Occupation|charged_off_loans|\n",
            "+----------+-----------------+\n",
            "+----------+-----------------+\n",
            "\n"
          ]
        }
      ]
    },
    {
      "cell_type": "markdown",
      "source": [
        "**Part 5** — Machine Learning (Optional)"
      ],
      "metadata": {
        "id": "MUuM_JMZuTu7"
      }
    },
    {
      "cell_type": "code",
      "source": [
        "from pyspark.ml.feature import StringIndexer, VectorAssembler\n",
        "from pyspark.ml.classification import LogisticRegression\n",
        "from pyspark.ml.evaluation import MulticlassClassificationEvaluator"
      ],
      "metadata": {
        "id": "FQetmqEnuWEg"
      },
      "execution_count": 35,
      "outputs": []
    },
    {
      "cell_type": "code",
      "source": [
        "\n",
        "# Encode categorical columns\n",
        "loan_category_indexer = StringIndexer(inputCol=\"Loan Category\", outputCol=\"LoanCategoryIndex\")\n",
        "overdue_indexer = StringIndexer(inputCol=\"Overdue\", outputCol=\"label\")  # Target variable"
      ],
      "metadata": {
        "id": "ZmLtOtHtuawh"
      },
      "execution_count": 37,
      "outputs": []
    },
    {
      "cell_type": "code",
      "source": [
        "# Apply indexers\n",
        "df_indexed = loan_category_indexer.fit(df_clean).transform(df_clean)\n",
        "df_indexed = overdue_indexer.fit(df_indexed).transform(df_indexed)"
      ],
      "metadata": {
        "id": "claz_M1hug4X"
      },
      "execution_count": 38,
      "outputs": []
    },
    {
      "cell_type": "code",
      "source": [
        "# Assemble features (using some numeric columns + encoded category)\n",
        "feature_cols = [\"Age\", \"Income\", \"Expenditure\", \"Family Size\", \"Loan Amount\", \"LoanCategoryIndex\"]\n",
        "assembler = VectorAssembler(inputCols=feature_cols, outputCol=\"features\")\n",
        "\n",
        "df_final = assembler.transform(df_indexed)"
      ],
      "metadata": {
        "id": "4Nb5uWlkuxL6"
      },
      "execution_count": 39,
      "outputs": []
    },
    {
      "cell_type": "code",
      "source": [
        "# Split into train & test\n",
        "train_df, test_df = df_final.randomSplit([0.8, 0.2], seed=42)"
      ],
      "metadata": {
        "id": "ifnS2eHlu_eb"
      },
      "execution_count": 40,
      "outputs": []
    },
    {
      "cell_type": "code",
      "source": [
        "from pyspark.ml.feature import VectorAssembler\n",
        "\n",
        "# Choose your input feature columns\n",
        "feature_cols = [\"Age\", \"Income\", \"Expenditure\", \"Family Size\", \"Loan Amount\"]\n",
        "\n",
        "# Create VectorAssembler\n",
        "assembler = VectorAssembler(\n",
        "    inputCols=feature_cols,   # Columns to combine\n",
        "    outputCol=\"features\",     # Name of new features column\n",
        "    handleInvalid=\"keep\"      # Avoids errors if nulls exist\n",
        ")\n",
        "\n",
        "# Apply transformation\n",
        "df_with_features = assembler.transform(df_clean)\n",
        "\n",
        "# Check results\n",
        "df_with_features.select(feature_cols + [\"features\"]).show(5, truncate=False)\n"
      ],
      "metadata": {
        "colab": {
          "base_uri": "https://localhost:8080/"
        },
        "id": "Uhsc-3LBvQhG",
        "outputId": "c09d0067-47f7-4284-81ee-36844b87e74d"
      },
      "execution_count": 45,
      "outputs": [
        {
          "output_type": "stream",
          "name": "stdout",
          "text": [
            "+---+------+-----------+-----------+-----------+------------------------------+\n",
            "|Age|Income|Expenditure|Family Size|Loan Amount|features                      |\n",
            "+---+------+-----------+-----------+-----------+------------------------------+\n",
            "|30 |53957 |34709      |2          |NULL       |[30.0,53957.0,34709.0,2.0,NaN]|\n",
            "|39 |77699 |12482      |4          |NULL       |[39.0,77699.0,12482.0,4.0,NaN]|\n",
            "|51 |84966 |42591      |3          |NULL       |[51.0,84966.0,42591.0,3.0,NaN]|\n",
            "|56 |30000 |15426      |5          |NULL       |[56.0,30000.0,15426.0,5.0,NaN]|\n",
            "|55 |34999 |19888      |6          |NULL       |[55.0,34999.0,19888.0,6.0,NaN]|\n",
            "+---+------+-----------+-----------+-----------+------------------------------+\n",
            "only showing top 5 rows\n",
            "\n"
          ]
        }
      ]
    },
    {
      "cell_type": "code",
      "source": [],
      "metadata": {
        "id": "zhYc3gW5x4LY"
      },
      "execution_count": null,
      "outputs": []
    }
  ]
}