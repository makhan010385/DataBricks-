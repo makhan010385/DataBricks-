{
  "nbformat": 4,
  "nbformat_minor": 0,
  "metadata": {
    "colab": {
      "provenance": []
    },
    "kernelspec": {
      "name": "python3",
      "display_name": "Python 3"
    },
    "language_info": {
      "name": "python"
    }
  },
  "cells": [
    {
      "cell_type": "code",
      "execution_count": null,
      "metadata": {
        "id": "aLC1VKVS0lMx"
      },
      "outputs": [],
      "source": []
    },
    {
      "cell_type": "code",
      "source": [
        "!apt-get install openjdk-8-jdk-headless -qq > /dev/null\n",
        "!wget -q http://archive.apache.org/dist/spark/spark-3.5.1/spark-3.5.1-bin-hadoop3.tgz\n",
        "!tar xf spark-3.5.1-bin-hadoop3.tgz\n",
        "!pip install -q findspark"
      ],
      "metadata": {
        "id": "PCYdsOCY0l_6"
      },
      "execution_count": 1,
      "outputs": []
    },
    {
      "cell_type": "code",
      "source": [
        "import os\n",
        "os.environ[\"JAVA_HOME\"] = \"/usr/lib/jvm/java-8-openjdk-amd64\"\n",
        "os.environ[\"SPARK_HOME\"] = \"/content/spark-3.5.1-bin-hadoop3\""
      ],
      "metadata": {
        "id": "cyUu7TXd0mDz"
      },
      "execution_count": 2,
      "outputs": []
    },
    {
      "cell_type": "code",
      "source": [
        "import findspark\n",
        "findspark.init()\n",
        "from pyspark.sql import SparkSession\n",
        "spark = SparkSession.builder.master(\"local[*]\").getOrCreate()\n",
        "spark.conf.set(\"spark.sql.repl.eagerEval.enabled\", True) # Property used to format output tables better\n",
        "spark"
      ],
      "metadata": {
        "colab": {
          "base_uri": "https://localhost:8080/",
          "height": 219
        },
        "id": "Ah22ndgU1JnB",
        "outputId": "758ed0f0-1d7b-436e-bf27-2cf62e4dd2e1"
      },
      "execution_count": 3,
      "outputs": [
        {
          "output_type": "execute_result",
          "data": {
            "text/plain": [
              "<pyspark.sql.session.SparkSession at 0x7e61d4566010>"
            ],
            "text/html": [
              "\n",
              "            <div>\n",
              "                <p><b>SparkSession - in-memory</b></p>\n",
              "                \n",
              "        <div>\n",
              "            <p><b>SparkContext</b></p>\n",
              "\n",
              "            <p><a href=\"http://e88f223439b9:4040\">Spark UI</a></p>\n",
              "\n",
              "            <dl>\n",
              "              <dt>Version</dt>\n",
              "                <dd><code>v3.5.1</code></dd>\n",
              "              <dt>Master</dt>\n",
              "                <dd><code>local[*]</code></dd>\n",
              "              <dt>AppName</dt>\n",
              "                <dd><code>pyspark-shell</code></dd>\n",
              "            </dl>\n",
              "        </div>\n",
              "        \n",
              "            </div>\n",
              "        "
            ]
          },
          "metadata": {},
          "execution_count": 3
        }
      ]
    },
    {
      "cell_type": "markdown",
      "source": [],
      "metadata": {
        "id": "hYz9ZVB60mOK"
      }
    },
    {
      "cell_type": "markdown",
      "source": [],
      "metadata": {
        "id": "IfapJW--0mRq"
      }
    },
    {
      "cell_type": "markdown",
      "source": [],
      "metadata": {
        "id": "zjtOr54o0mVy"
      }
    },
    {
      "cell_type": "code",
      "source": [
        "from pyspark.sql import SparkSession\n",
        "\n",
        "# Create a local Spark session\n",
        "spark = SparkSession.builder \\\n",
        "    .appName(\"LocalSparkExample\") \\\n",
        "    .master(\"local[*]\") \\\n",
        "    .getOrCreate()\n",
        "\n",
        "# Load CSV into DataFrame\n",
        "df = spark.read.csv(\"merged_final.csv\", header=True, inferSchema=True)\n",
        "\n",
        "# Show first 5 rows\n",
        "df.show(5)"
      ],
      "metadata": {
        "colab": {
          "base_uri": "https://localhost:8080/"
        },
        "id": "ImgPOOPK1EJ7",
        "outputId": "b8cfdddb-46f6-424e-dbbc-5fad252ed83c"
      },
      "execution_count": 5,
      "outputs": [
        {
          "output_type": "stream",
          "name": "stdout",
          "text": [
            "+----------+----------------+--------------------+---------------+-------------+-----------+------------+---------------+----+----+\n",
            "|Unnamed: 0|          author|           statement|         source|         date|     target|BinaryTarget|BinaryNumTarget|Fake|Real|\n",
            "+----------+----------------+--------------------+---------------+-------------+-----------+------------+---------------+----+----+\n",
            "|         0|Marta Campabadal|“Netflix estrenó ...| Facebook posts|June 29, 2023|      FALSE|        FAKE|              0|FAKE|NULL|\n",
            "|         1|  Louis Jacobson|Says that under h...|      Joe Biden|June 29, 2023|mostly-true|        REAL|              1|NULL|REAL|\n",
            "|         2|    Jeff Cercone|\"\"\"ONU ordena des...| Facebook posts|June 29, 2023|      FALSE|        FAKE|              0|FAKE|NULL|\n",
            "|         3|      Sara Swann|NASA warns of “in...| Facebook posts|June 29, 2023|      FALSE|        FAKE|              0|FAKE|NULL|\n",
            "|         4|    Jeff Cercone|Video suggests CO...|Instagram posts|June 29, 2023|      FALSE|        FAKE|              0|FAKE|NULL|\n",
            "+----------+----------------+--------------------+---------------+-------------+-----------+------------+---------------+----+----+\n",
            "only showing top 5 rows\n",
            "\n"
          ]
        }
      ]
    },
    {
      "cell_type": "markdown",
      "source": [
        "#Display the summary statistics"
      ],
      "metadata": {
        "id": "V1K6dIVA1ov8"
      }
    },
    {
      "cell_type": "code",
      "source": [
        "# Display the summary statistics of the data\n",
        "df.describe().show()"
      ],
      "metadata": {
        "colab": {
          "base_uri": "https://localhost:8080/"
        },
        "id": "6fTix4ro1sfq",
        "outputId": "3d5a02ce-a393-4138-e828-265485fbfc5c"
      },
      "execution_count": 6,
      "outputs": [
        {
          "output_type": "stream",
          "name": "stdout",
          "text": [
            "+-------+------------------+------------+--------------------+--------------------+--------------------+-------------+-------------+-------------------+-------------------+--------------------+\n",
            "|summary|        Unnamed: 0|      author|           statement|              source|                date|       target| BinaryTarget|    BinaryNumTarget|               Fake|                Real|\n",
            "+-------+------------------+------------+--------------------+--------------------+--------------------+-------------+-------------+-------------------+-------------------+--------------------+\n",
            "|  count|              6000|        6000|                6000|                6000|                6000|         6000|         6000|               6000|               5252|                 572|\n",
            "|   mean|            2999.5|        NULL|                NULL|                 0.0|                 0.0|          2.0|         NULL|0.12988826815642457| 0.4090909090909091| 0.16666666666666666|\n",
            "| stddev|1732.1951391226105|        NULL|                NULL|                 0.0|                 0.0|          0.0|         NULL|0.33620981554956725|0.49306884216799096|  0.3752933125204009|\n",
            "|    min|                 0|Aarón Torres|\"\"\"$1 of every $3...| (Wisconsin Repub...| Honduras y El Sa...|            2| DUI offenses|         DEA agents|      and so on.\"\"\"| and even 2nd deg...|\n",
            "|    max|              5999| Yacob Reyes|“‘The View’ settl...|           Zach Nunn|     • September 26,|• February 3,|   pants-fire|         pants-fire|        mostly-true|                REAL|\n",
            "+-------+------------------+------------+--------------------+--------------------+--------------------+-------------+-------------+-------------------+-------------------+--------------------+\n",
            "\n"
          ]
        }
      ]
    },
    {
      "cell_type": "markdown",
      "source": [
        "#Convert Spark Dataframe to Pandas"
      ],
      "metadata": {
        "id": "6kHr1xh510au"
      }
    },
    {
      "cell_type": "code",
      "source": [
        "import pandas as pd\n",
        "pandas_df =df.toPandas()\n",
        "pandas_df.head()"
      ],
      "metadata": {
        "colab": {
          "base_uri": "https://localhost:8080/",
          "height": 206
        },
        "id": "Xzdfyyai2Ejw",
        "outputId": "5c4c64e9-dd89-4a03-cd17-6734ad6d889a"
      },
      "execution_count": 7,
      "outputs": [
        {
          "output_type": "execute_result",
          "data": {
            "text/plain": [
              "   Unnamed: 0            author  \\\n",
              "0           0  Marta Campabadal   \n",
              "1           1    Louis Jacobson   \n",
              "2           2      Jeff Cercone   \n",
              "3           3        Sara Swann   \n",
              "4           4      Jeff Cercone   \n",
              "\n",
              "                                           statement           source  \\\n",
              "0  “Netflix estrenó una película del Titan el 23 ...   Facebook posts   \n",
              "1  Says that under his presidency, the unemployme...        Joe Biden   \n",
              "2     \"\"\"ONU ordena despenalizar a los\"\" pedófilos.\"   Facebook posts   \n",
              "3  NASA warns of “internet apocalypse,” which “me...   Facebook posts   \n",
              "4  Video suggests COVID-19 vaccines are responsib...  Instagram posts   \n",
              "\n",
              "            date       target BinaryTarget BinaryNumTarget  Fake  Real  \n",
              "0  June 29, 2023        FALSE         FAKE               0  FAKE  None  \n",
              "1  June 29, 2023  mostly-true         REAL               1  None  REAL  \n",
              "2  June 29, 2023        FALSE         FAKE               0  FAKE  None  \n",
              "3  June 29, 2023        FALSE         FAKE               0  FAKE  None  \n",
              "4  June 29, 2023        FALSE         FAKE               0  FAKE  None  "
            ],
            "text/html": [
              "\n",
              "  <div id=\"df-80e05fbd-e13e-4971-a7ab-4fe76a6813e4\" class=\"colab-df-container\">\n",
              "    <div>\n",
              "<style scoped>\n",
              "    .dataframe tbody tr th:only-of-type {\n",
              "        vertical-align: middle;\n",
              "    }\n",
              "\n",
              "    .dataframe tbody tr th {\n",
              "        vertical-align: top;\n",
              "    }\n",
              "\n",
              "    .dataframe thead th {\n",
              "        text-align: right;\n",
              "    }\n",
              "</style>\n",
              "<table border=\"1\" class=\"dataframe\">\n",
              "  <thead>\n",
              "    <tr style=\"text-align: right;\">\n",
              "      <th></th>\n",
              "      <th>Unnamed: 0</th>\n",
              "      <th>author</th>\n",
              "      <th>statement</th>\n",
              "      <th>source</th>\n",
              "      <th>date</th>\n",
              "      <th>target</th>\n",
              "      <th>BinaryTarget</th>\n",
              "      <th>BinaryNumTarget</th>\n",
              "      <th>Fake</th>\n",
              "      <th>Real</th>\n",
              "    </tr>\n",
              "  </thead>\n",
              "  <tbody>\n",
              "    <tr>\n",
              "      <th>0</th>\n",
              "      <td>0</td>\n",
              "      <td>Marta Campabadal</td>\n",
              "      <td>“Netflix estrenó una película del Titan el 23 ...</td>\n",
              "      <td>Facebook posts</td>\n",
              "      <td>June 29, 2023</td>\n",
              "      <td>FALSE</td>\n",
              "      <td>FAKE</td>\n",
              "      <td>0</td>\n",
              "      <td>FAKE</td>\n",
              "      <td>None</td>\n",
              "    </tr>\n",
              "    <tr>\n",
              "      <th>1</th>\n",
              "      <td>1</td>\n",
              "      <td>Louis Jacobson</td>\n",
              "      <td>Says that under his presidency, the unemployme...</td>\n",
              "      <td>Joe Biden</td>\n",
              "      <td>June 29, 2023</td>\n",
              "      <td>mostly-true</td>\n",
              "      <td>REAL</td>\n",
              "      <td>1</td>\n",
              "      <td>None</td>\n",
              "      <td>REAL</td>\n",
              "    </tr>\n",
              "    <tr>\n",
              "      <th>2</th>\n",
              "      <td>2</td>\n",
              "      <td>Jeff Cercone</td>\n",
              "      <td>\"\"\"ONU ordena despenalizar a los\"\" pedófilos.\"</td>\n",
              "      <td>Facebook posts</td>\n",
              "      <td>June 29, 2023</td>\n",
              "      <td>FALSE</td>\n",
              "      <td>FAKE</td>\n",
              "      <td>0</td>\n",
              "      <td>FAKE</td>\n",
              "      <td>None</td>\n",
              "    </tr>\n",
              "    <tr>\n",
              "      <th>3</th>\n",
              "      <td>3</td>\n",
              "      <td>Sara Swann</td>\n",
              "      <td>NASA warns of “internet apocalypse,” which “me...</td>\n",
              "      <td>Facebook posts</td>\n",
              "      <td>June 29, 2023</td>\n",
              "      <td>FALSE</td>\n",
              "      <td>FAKE</td>\n",
              "      <td>0</td>\n",
              "      <td>FAKE</td>\n",
              "      <td>None</td>\n",
              "    </tr>\n",
              "    <tr>\n",
              "      <th>4</th>\n",
              "      <td>4</td>\n",
              "      <td>Jeff Cercone</td>\n",
              "      <td>Video suggests COVID-19 vaccines are responsib...</td>\n",
              "      <td>Instagram posts</td>\n",
              "      <td>June 29, 2023</td>\n",
              "      <td>FALSE</td>\n",
              "      <td>FAKE</td>\n",
              "      <td>0</td>\n",
              "      <td>FAKE</td>\n",
              "      <td>None</td>\n",
              "    </tr>\n",
              "  </tbody>\n",
              "</table>\n",
              "</div>\n",
              "    <div class=\"colab-df-buttons\">\n",
              "\n",
              "  <div class=\"colab-df-container\">\n",
              "    <button class=\"colab-df-convert\" onclick=\"convertToInteractive('df-80e05fbd-e13e-4971-a7ab-4fe76a6813e4')\"\n",
              "            title=\"Convert this dataframe to an interactive table.\"\n",
              "            style=\"display:none;\">\n",
              "\n",
              "  <svg xmlns=\"http://www.w3.org/2000/svg\" height=\"24px\" viewBox=\"0 -960 960 960\">\n",
              "    <path d=\"M120-120v-720h720v720H120Zm60-500h600v-160H180v160Zm220 220h160v-160H400v160Zm0 220h160v-160H400v160ZM180-400h160v-160H180v160Zm440 0h160v-160H620v160ZM180-180h160v-160H180v160Zm440 0h160v-160H620v160Z\"/>\n",
              "  </svg>\n",
              "    </button>\n",
              "\n",
              "  <style>\n",
              "    .colab-df-container {\n",
              "      display:flex;\n",
              "      gap: 12px;\n",
              "    }\n",
              "\n",
              "    .colab-df-convert {\n",
              "      background-color: #E8F0FE;\n",
              "      border: none;\n",
              "      border-radius: 50%;\n",
              "      cursor: pointer;\n",
              "      display: none;\n",
              "      fill: #1967D2;\n",
              "      height: 32px;\n",
              "      padding: 0 0 0 0;\n",
              "      width: 32px;\n",
              "    }\n",
              "\n",
              "    .colab-df-convert:hover {\n",
              "      background-color: #E2EBFA;\n",
              "      box-shadow: 0px 1px 2px rgba(60, 64, 67, 0.3), 0px 1px 3px 1px rgba(60, 64, 67, 0.15);\n",
              "      fill: #174EA6;\n",
              "    }\n",
              "\n",
              "    .colab-df-buttons div {\n",
              "      margin-bottom: 4px;\n",
              "    }\n",
              "\n",
              "    [theme=dark] .colab-df-convert {\n",
              "      background-color: #3B4455;\n",
              "      fill: #D2E3FC;\n",
              "    }\n",
              "\n",
              "    [theme=dark] .colab-df-convert:hover {\n",
              "      background-color: #434B5C;\n",
              "      box-shadow: 0px 1px 3px 1px rgba(0, 0, 0, 0.15);\n",
              "      filter: drop-shadow(0px 1px 2px rgba(0, 0, 0, 0.3));\n",
              "      fill: #FFFFFF;\n",
              "    }\n",
              "  </style>\n",
              "\n",
              "    <script>\n",
              "      const buttonEl =\n",
              "        document.querySelector('#df-80e05fbd-e13e-4971-a7ab-4fe76a6813e4 button.colab-df-convert');\n",
              "      buttonEl.style.display =\n",
              "        google.colab.kernel.accessAllowed ? 'block' : 'none';\n",
              "\n",
              "      async function convertToInteractive(key) {\n",
              "        const element = document.querySelector('#df-80e05fbd-e13e-4971-a7ab-4fe76a6813e4');\n",
              "        const dataTable =\n",
              "          await google.colab.kernel.invokeFunction('convertToInteractive',\n",
              "                                                    [key], {});\n",
              "        if (!dataTable) return;\n",
              "\n",
              "        const docLinkHtml = 'Like what you see? Visit the ' +\n",
              "          '<a target=\"_blank\" href=https://colab.research.google.com/notebooks/data_table.ipynb>data table notebook</a>'\n",
              "          + ' to learn more about interactive tables.';\n",
              "        element.innerHTML = '';\n",
              "        dataTable['output_type'] = 'display_data';\n",
              "        await google.colab.output.renderOutput(dataTable, element);\n",
              "        const docLink = document.createElement('div');\n",
              "        docLink.innerHTML = docLinkHtml;\n",
              "        element.appendChild(docLink);\n",
              "      }\n",
              "    </script>\n",
              "  </div>\n",
              "\n",
              "\n",
              "    <div id=\"df-e39481d7-9210-4527-a1b2-52f96fe9a9b2\">\n",
              "      <button class=\"colab-df-quickchart\" onclick=\"quickchart('df-e39481d7-9210-4527-a1b2-52f96fe9a9b2')\"\n",
              "                title=\"Suggest charts\"\n",
              "                style=\"display:none;\">\n",
              "\n",
              "<svg xmlns=\"http://www.w3.org/2000/svg\" height=\"24px\"viewBox=\"0 0 24 24\"\n",
              "     width=\"24px\">\n",
              "    <g>\n",
              "        <path d=\"M19 3H5c-1.1 0-2 .9-2 2v14c0 1.1.9 2 2 2h14c1.1 0 2-.9 2-2V5c0-1.1-.9-2-2-2zM9 17H7v-7h2v7zm4 0h-2V7h2v10zm4 0h-2v-4h2v4z\"/>\n",
              "    </g>\n",
              "</svg>\n",
              "      </button>\n",
              "\n",
              "<style>\n",
              "  .colab-df-quickchart {\n",
              "      --bg-color: #E8F0FE;\n",
              "      --fill-color: #1967D2;\n",
              "      --hover-bg-color: #E2EBFA;\n",
              "      --hover-fill-color: #174EA6;\n",
              "      --disabled-fill-color: #AAA;\n",
              "      --disabled-bg-color: #DDD;\n",
              "  }\n",
              "\n",
              "  [theme=dark] .colab-df-quickchart {\n",
              "      --bg-color: #3B4455;\n",
              "      --fill-color: #D2E3FC;\n",
              "      --hover-bg-color: #434B5C;\n",
              "      --hover-fill-color: #FFFFFF;\n",
              "      --disabled-bg-color: #3B4455;\n",
              "      --disabled-fill-color: #666;\n",
              "  }\n",
              "\n",
              "  .colab-df-quickchart {\n",
              "    background-color: var(--bg-color);\n",
              "    border: none;\n",
              "    border-radius: 50%;\n",
              "    cursor: pointer;\n",
              "    display: none;\n",
              "    fill: var(--fill-color);\n",
              "    height: 32px;\n",
              "    padding: 0;\n",
              "    width: 32px;\n",
              "  }\n",
              "\n",
              "  .colab-df-quickchart:hover {\n",
              "    background-color: var(--hover-bg-color);\n",
              "    box-shadow: 0 1px 2px rgba(60, 64, 67, 0.3), 0 1px 3px 1px rgba(60, 64, 67, 0.15);\n",
              "    fill: var(--button-hover-fill-color);\n",
              "  }\n",
              "\n",
              "  .colab-df-quickchart-complete:disabled,\n",
              "  .colab-df-quickchart-complete:disabled:hover {\n",
              "    background-color: var(--disabled-bg-color);\n",
              "    fill: var(--disabled-fill-color);\n",
              "    box-shadow: none;\n",
              "  }\n",
              "\n",
              "  .colab-df-spinner {\n",
              "    border: 2px solid var(--fill-color);\n",
              "    border-color: transparent;\n",
              "    border-bottom-color: var(--fill-color);\n",
              "    animation:\n",
              "      spin 1s steps(1) infinite;\n",
              "  }\n",
              "\n",
              "  @keyframes spin {\n",
              "    0% {\n",
              "      border-color: transparent;\n",
              "      border-bottom-color: var(--fill-color);\n",
              "      border-left-color: var(--fill-color);\n",
              "    }\n",
              "    20% {\n",
              "      border-color: transparent;\n",
              "      border-left-color: var(--fill-color);\n",
              "      border-top-color: var(--fill-color);\n",
              "    }\n",
              "    30% {\n",
              "      border-color: transparent;\n",
              "      border-left-color: var(--fill-color);\n",
              "      border-top-color: var(--fill-color);\n",
              "      border-right-color: var(--fill-color);\n",
              "    }\n",
              "    40% {\n",
              "      border-color: transparent;\n",
              "      border-right-color: var(--fill-color);\n",
              "      border-top-color: var(--fill-color);\n",
              "    }\n",
              "    60% {\n",
              "      border-color: transparent;\n",
              "      border-right-color: var(--fill-color);\n",
              "    }\n",
              "    80% {\n",
              "      border-color: transparent;\n",
              "      border-right-color: var(--fill-color);\n",
              "      border-bottom-color: var(--fill-color);\n",
              "    }\n",
              "    90% {\n",
              "      border-color: transparent;\n",
              "      border-bottom-color: var(--fill-color);\n",
              "    }\n",
              "  }\n",
              "</style>\n",
              "\n",
              "      <script>\n",
              "        async function quickchart(key) {\n",
              "          const quickchartButtonEl =\n",
              "            document.querySelector('#' + key + ' button');\n",
              "          quickchartButtonEl.disabled = true;  // To prevent multiple clicks.\n",
              "          quickchartButtonEl.classList.add('colab-df-spinner');\n",
              "          try {\n",
              "            const charts = await google.colab.kernel.invokeFunction(\n",
              "                'suggestCharts', [key], {});\n",
              "          } catch (error) {\n",
              "            console.error('Error during call to suggestCharts:', error);\n",
              "          }\n",
              "          quickchartButtonEl.classList.remove('colab-df-spinner');\n",
              "          quickchartButtonEl.classList.add('colab-df-quickchart-complete');\n",
              "        }\n",
              "        (() => {\n",
              "          let quickchartButtonEl =\n",
              "            document.querySelector('#df-e39481d7-9210-4527-a1b2-52f96fe9a9b2 button');\n",
              "          quickchartButtonEl.style.display =\n",
              "            google.colab.kernel.accessAllowed ? 'block' : 'none';\n",
              "        })();\n",
              "      </script>\n",
              "    </div>\n",
              "\n",
              "    </div>\n",
              "  </div>\n"
            ],
            "application/vnd.google.colaboratory.intrinsic+json": {
              "type": "dataframe",
              "variable_name": "pandas_df",
              "summary": "{\n  \"name\": \"pandas_df\",\n  \"rows\": 6000,\n  \"fields\": [\n    {\n      \"column\": \"Unnamed: 0\",\n      \"properties\": {\n        \"dtype\": \"int32\",\n        \"num_unique_values\": 6000,\n        \"samples\": [\n          1782,\n          3917,\n          221\n        ],\n        \"semantic_type\": \"\",\n        \"description\": \"\"\n      }\n    },\n    {\n      \"column\": \"author\",\n      \"properties\": {\n        \"dtype\": \"category\",\n        \"num_unique_values\": 71,\n        \"samples\": [\n          \"Julie Appleby\",\n          \"Marta Campabadal\",\n          \"Blake Farmer\"\n        ],\n        \"semantic_type\": \"\",\n        \"description\": \"\"\n      }\n    },\n    {\n      \"column\": \"statement\",\n      \"properties\": {\n        \"dtype\": \"category\",\n        \"num_unique_values\": 1493,\n        \"samples\": [\n          \"\\\"Sen. Marco Rubio \\\"\\\"helped write the law to raise prescription prices.\\\"\\\"\\\"\",\n          \"Amazon\\u2019s Alexa confirms Michelle Obama \\u201cwas born Michael LaVaughn Robinson.\\u201d\",\n          \"The IRS is hiring 87,000 new agents to police people who will owe more federal tax after having their student loans forgiven.\"\n        ],\n        \"semantic_type\": \"\",\n        \"description\": \"\"\n      }\n    },\n    {\n      \"column\": \"source\",\n      \"properties\": {\n        \"dtype\": \"category\",\n        \"num_unique_values\": 300,\n        \"samples\": [\n          \"Deidre DeJear\",\n          \"Republican Governors Association\",\n          \"Rita Harris\"\n        ],\n        \"semantic_type\": \"\",\n        \"description\": \"\"\n      }\n    },\n    {\n      \"column\": \"date\",\n      \"properties\": {\n        \"dtype\": \"category\",\n        \"num_unique_values\": 328,\n        \"samples\": [\n          \"October 24, 2022\",\n          \"March 6, 2023\",\n          \"October 7, 2022\"\n        ],\n        \"semantic_type\": \"\",\n        \"description\": \"\"\n      }\n    },\n    {\n      \"column\": \"target\",\n      \"properties\": {\n        \"dtype\": \"category\",\n        \"num_unique_values\": 67,\n        \"samples\": [\n          \"January 10, 2023\",\n          \"May 9, 2023\",\n          \"barely-true\"\n        ],\n        \"semantic_type\": \"\",\n        \"description\": \"\"\n      }\n    },\n    {\n      \"column\": \"BinaryTarget\",\n      \"properties\": {\n        \"dtype\": \"category\",\n        \"num_unique_values\": 29,\n        \"samples\": [\n          \"August 12, 2022\",\n          \"November 4, 2022\",\n          \"March 17, 2023\"\n        ],\n        \"semantic_type\": \"\",\n        \"description\": \"\"\n      }\n    },\n    {\n      \"column\": \"BinaryNumTarget\",\n      \"properties\": {\n        \"dtype\": \"category\",\n        \"num_unique_values\": 14,\n        \"samples\": [\n          \"half-true\",\n          \"September 27, 2022\",\n          \"0\"\n        ],\n        \"semantic_type\": \"\",\n        \"description\": \"\"\n      }\n    },\n    {\n      \"column\": \"Fake\",\n      \"properties\": {\n        \"dtype\": \"category\",\n        \"num_unique_values\": 8,\n        \"samples\": [\n          \"1\",\n          \"REAL\",\n          \"FAKE\"\n        ],\n        \"semantic_type\": \"\",\n        \"description\": \"\"\n      }\n    },\n    {\n      \"column\": \"Real\",\n      \"properties\": {\n        \"dtype\": \"category\",\n        \"num_unique_values\": 6,\n        \"samples\": [\n          \"REAL\",\n          \"FAKE\",\n          \" and even 2nd degree murder.\\u201d\\\"\"\n        ],\n        \"semantic_type\": \"\",\n        \"description\": \"\"\n      }\n    }\n  ]\n}"
            }
          },
          "metadata": {},
          "execution_count": 7
        }
      ]
    },
    {
      "cell_type": "markdown",
      "source": [
        "#Now we can use pandas operations on the pandas_df dataframe.\n",
        "\n",
        "##Data Transformation\n",
        "##Select specific columns"
      ],
      "metadata": {
        "id": "yEvPGfmZ2LRj"
      }
    },
    {
      "cell_type": "code",
      "source": [
        "# Select specific columns\n",
        "df.select(\"Unnamed: 0\", \"BinaryNumTarget\").show(5)"
      ],
      "metadata": {
        "colab": {
          "base_uri": "https://localhost:8080/"
        },
        "id": "hRm33W4u2QUs",
        "outputId": "394dfd8b-46a8-47ac-a1ea-d23e845cd062"
      },
      "execution_count": 9,
      "outputs": [
        {
          "output_type": "stream",
          "name": "stdout",
          "text": [
            "+----------+---------------+\n",
            "|Unnamed: 0|BinaryNumTarget|\n",
            "+----------+---------------+\n",
            "|         0|              0|\n",
            "|         1|              1|\n",
            "|         2|              0|\n",
            "|         3|              0|\n",
            "|         4|              0|\n",
            "+----------+---------------+\n",
            "only showing top 5 rows\n",
            "\n"
          ]
        }
      ]
    },
    {
      "cell_type": "markdown",
      "source": [
        "#Rename a column"
      ],
      "metadata": {
        "id": "FTzzf1Z52bV6"
      }
    },
    {
      "cell_type": "code",
      "source": [
        "df_renamed =df.withColumnRenamed(\"Unnamed: 0\", \"id\")\n",
        "df_renamed.show(5)"
      ],
      "metadata": {
        "colab": {
          "base_uri": "https://localhost:8080/"
        },
        "id": "kuv2e6113Jl_",
        "outputId": "49092335-6ff0-459d-838b-32d20eeaff9a"
      },
      "execution_count": 10,
      "outputs": [
        {
          "output_type": "stream",
          "name": "stdout",
          "text": [
            "+---+----------------+--------------------+---------------+-------------+-----------+------------+---------------+----+----+\n",
            "| id|          author|           statement|         source|         date|     target|BinaryTarget|BinaryNumTarget|Fake|Real|\n",
            "+---+----------------+--------------------+---------------+-------------+-----------+------------+---------------+----+----+\n",
            "|  0|Marta Campabadal|“Netflix estrenó ...| Facebook posts|June 29, 2023|      FALSE|        FAKE|              0|FAKE|NULL|\n",
            "|  1|  Louis Jacobson|Says that under h...|      Joe Biden|June 29, 2023|mostly-true|        REAL|              1|NULL|REAL|\n",
            "|  2|    Jeff Cercone|\"\"\"ONU ordena des...| Facebook posts|June 29, 2023|      FALSE|        FAKE|              0|FAKE|NULL|\n",
            "|  3|      Sara Swann|NASA warns of “in...| Facebook posts|June 29, 2023|      FALSE|        FAKE|              0|FAKE|NULL|\n",
            "|  4|    Jeff Cercone|Video suggests CO...|Instagram posts|June 29, 2023|      FALSE|        FAKE|              0|FAKE|NULL|\n",
            "+---+----------------+--------------------+---------------+-------------+-----------+------------+---------------+----+----+\n",
            "only showing top 5 rows\n",
            "\n"
          ]
        }
      ]
    },
    {
      "cell_type": "markdown",
      "source": [
        "#Filter data based on a condition"
      ],
      "metadata": {
        "id": "qIW7KXPx3TtT"
      }
    },
    {
      "cell_type": "code",
      "source": [
        "# Filter data based on a condition\n",
        "df_renamed.filter(df_renamed.id > 10).show(5)"
      ],
      "metadata": {
        "colab": {
          "base_uri": "https://localhost:8080/"
        },
        "id": "XZr2_ven3Ww8",
        "outputId": "389668ab-a955-4f19-b99f-b32597d27bb9"
      },
      "execution_count": 13,
      "outputs": [
        {
          "output_type": "stream",
          "name": "stdout",
          "text": [
            "+---+----------------+--------------------+---------------+-------------+----------+------------+---------------+----+----+\n",
            "| id|          author|           statement|         source|         date|    target|BinaryTarget|BinaryNumTarget|Fake|Real|\n",
            "+---+----------------+--------------------+---------------+-------------+----------+------------+---------------+----+----+\n",
            "| 11|      Nuria Diaz|John F. Kennedy e...|Instagram posts|June 27, 2023|pants-fire|        FAKE|              0|FAKE|NULL|\n",
            "| 12|   Maria Briceño|\"\"\"Se filtran aud...| Facebook posts|June 27, 2023|     FALSE|        FAKE|              0|FAKE|NULL|\n",
            "| 13|Marta Campabadal|Fotos muestran ro...| Facebook posts|June 27, 2023|     FALSE|        FAKE|              0|FAKE|NULL|\n",
            "| 14|    Jeff Cercone|Audio is of “the ...| Facebook posts|June 27, 2023|     FALSE|        FAKE|              0|FAKE|NULL|\n",
            "| 15|   Maria Briceño|\"\"\"Imagenes de lo...| Facebook posts|June 27, 2023|     FALSE|        FAKE|              0|FAKE|NULL|\n",
            "+---+----------------+--------------------+---------------+-------------+----------+------------+---------------+----+----+\n",
            "only showing top 5 rows\n",
            "\n"
          ]
        }
      ]
    },
    {
      "cell_type": "code",
      "source": [
        "df_renamed.show(10)"
      ],
      "metadata": {
        "colab": {
          "base_uri": "https://localhost:8080/"
        },
        "id": "vWHsC5814KTE",
        "outputId": "892ea9b1-1b5a-489e-df3f-79c2d5b7b357"
      },
      "execution_count": 16,
      "outputs": [
        {
          "output_type": "stream",
          "name": "stdout",
          "text": [
            "+---+--------------------+--------------------+--------------------+-------------+-----------+------------+---------------+----+----+\n",
            "| id|              author|           statement|              source|         date|     target|BinaryTarget|BinaryNumTarget|Fake|Real|\n",
            "+---+--------------------+--------------------+--------------------+-------------+-----------+------------+---------------+----+----+\n",
            "|  0|    Marta Campabadal|“Netflix estrenó ...|      Facebook posts|June 29, 2023|      FALSE|        FAKE|              0|FAKE|NULL|\n",
            "|  1|      Louis Jacobson|Says that under h...|           Joe Biden|June 29, 2023|mostly-true|        REAL|              1|NULL|REAL|\n",
            "|  2|        Jeff Cercone|\"\"\"ONU ordena des...|      Facebook posts|June 29, 2023|      FALSE|        FAKE|              0|FAKE|NULL|\n",
            "|  3|          Sara Swann|NASA warns of “in...|      Facebook posts|June 29, 2023|      FALSE|        FAKE|              0|FAKE|NULL|\n",
            "|  4|        Jeff Cercone|Video suggests CO...|     Instagram posts|June 29, 2023|      FALSE|        FAKE|              0|FAKE|NULL|\n",
            "|  5|     Loreben Tuquero|“The day before 9...|     Instagram posts|June 29, 2023|      FALSE|        FAKE|              0|FAKE|NULL|\n",
            "|  6|       Tom Kertscher|Kevin McCarthy “a...|      Facebook posts|June 29, 2023|      FALSE|        FAKE|              0|FAKE|NULL|\n",
            "|  7|Sofia Bliss-Carra...|Video showing som...|      Facebook posts|June 28, 2023| pants-fire|        FAKE|              0|FAKE|NULL|\n",
            "|  8|Sofia Bliss-Carra...|“Young Americans ...|     Vivek Ramaswamy|June 28, 2023|  half-true|        REAL|              1|NULL|REAL|\n",
            "|  9|         Grace Abels|\"Atrazine in the ...|Robert F. Kennedy...|June 28, 2023|      FALSE|        FAKE|              0|FAKE|NULL|\n",
            "+---+--------------------+--------------------+--------------------+-------------+-----------+------------+---------------+----+----+\n",
            "only showing top 10 rows\n",
            "\n"
          ]
        }
      ]
    },
    {
      "cell_type": "markdown",
      "source": [
        "#Some more filtering examples:"
      ],
      "metadata": {
        "id": "UtgMvvB53g0U"
      }
    },
    {
      "cell_type": "code",
      "source": [
        "df_renamed.filter((df_renamed.author == 'Marta Campabadal')).show(5)"
      ],
      "metadata": {
        "colab": {
          "base_uri": "https://localhost:8080/"
        },
        "id": "kF_UMmCK30fU",
        "outputId": "219fa052-4170-4eb9-c386-a5a0ae703a39"
      },
      "execution_count": 21,
      "outputs": [
        {
          "output_type": "stream",
          "name": "stdout",
          "text": [
            "+---+----------------+--------------------+--------------+-------------+----------+------------+---------------+----+----+\n",
            "| id|          author|           statement|        source|         date|    target|BinaryTarget|BinaryNumTarget|Fake|Real|\n",
            "+---+----------------+--------------------+--------------+-------------+----------+------------+---------------+----+----+\n",
            "|  0|Marta Campabadal|“Netflix estrenó ...|Facebook posts|June 29, 2023|     FALSE|        FAKE|              0|FAKE|NULL|\n",
            "| 10|Marta Campabadal|Los cinco tripula...|Facebook posts|June 27, 2023|     FALSE|        FAKE|              0|FAKE|NULL|\n",
            "| 13|Marta Campabadal|Fotos muestran ro...|Facebook posts|June 27, 2023|     FALSE|        FAKE|              0|FAKE|NULL|\n",
            "| 59|Marta Campabadal|“Arma que EE.UU. ...|Facebook posts|   • June 20,|     FALSE|        FAKE|              0|FAKE|NULL|\n",
            "| 75|Marta Campabadal|\"\"\"Panico en Mosc...|Facebook posts|June 19, 2023|pants-fire|        FAKE|              0|FAKE|NULL|\n",
            "+---+----------------+--------------------+--------------+-------------+----------+------------+---------------+----+----+\n",
            "only showing top 5 rows\n",
            "\n"
          ]
        }
      ]
    },
    {
      "cell_type": "code",
      "source": [],
      "metadata": {
        "id": "YC72FVd354V-"
      },
      "execution_count": null,
      "outputs": []
    },
    {
      "cell_type": "code",
      "source": [
        "df_renamed.filter((df_renamed.author.like('Louis%'))).show(5)"
      ],
      "metadata": {
        "colab": {
          "base_uri": "https://localhost:8080/"
        },
        "id": "NEQZAtwj5pYk",
        "outputId": "82c11a63-b95f-4570-b0dc-6dbe417ea89a"
      },
      "execution_count": 23,
      "outputs": [
        {
          "output_type": "stream",
          "name": "stdout",
          "text": [
            "+---+--------------+--------------------+--------------------+--------------+------------+------------+---------------+----+----+\n",
            "| id|        author|           statement|              source|          date|      target|BinaryTarget|BinaryNumTarget|Fake|Real|\n",
            "+---+--------------+--------------------+--------------------+--------------+------------+------------+---------------+----+----+\n",
            "|  1|Louis Jacobson|Says that under h...|           Joe Biden| June 29, 2023| mostly-true|        REAL|              1|NULL|REAL|\n",
            "| 21|Louis Jacobson|“Median income in...|           Tim Scott| June 26, 2023|   half-true|        REAL|              1|NULL|REAL|\n",
            "|114|Louis Jacobson|“The family separ...|          Mike Pence|  June 8, 2023|       FALSE|        FAKE|              0|FAKE|NULL|\n",
            "|131|Louis Jacobson|\"Having \"\"biologi...|         Nikki Haley|  June 6, 2023|       FALSE|        FAKE|              0|FAKE|NULL|\n",
            "|139|Louis Jacobson|\"\"\"Every study ha...| “it puts more pe...|Kevin McCarthy|June 1, 2023| barely-true|           FAKE|   0|FAKE|\n",
            "+---+--------------+--------------------+--------------------+--------------+------------+------------+---------------+----+----+\n",
            "only showing top 5 rows\n",
            "\n"
          ]
        }
      ]
    },
    {
      "cell_type": "code",
      "source": [],
      "metadata": {
        "id": "NgDlqAvE6xki"
      },
      "execution_count": null,
      "outputs": []
    },
    {
      "cell_type": "code",
      "source": [
        "df_renamed.filter((df_renamed.author.endswith('obson'))).show(5)"
      ],
      "metadata": {
        "colab": {
          "base_uri": "https://localhost:8080/"
        },
        "id": "MbCFnyPc6HRt",
        "outputId": "b1a7dca4-c90c-42cb-d44c-b89ccfc97f9c"
      },
      "execution_count": 24,
      "outputs": [
        {
          "output_type": "stream",
          "name": "stdout",
          "text": [
            "+---+--------------+--------------------+--------------------+--------------+------------+------------+---------------+----+----+\n",
            "| id|        author|           statement|              source|          date|      target|BinaryTarget|BinaryNumTarget|Fake|Real|\n",
            "+---+--------------+--------------------+--------------------+--------------+------------+------------+---------------+----+----+\n",
            "|  1|Louis Jacobson|Says that under h...|           Joe Biden| June 29, 2023| mostly-true|        REAL|              1|NULL|REAL|\n",
            "| 21|Louis Jacobson|“Median income in...|           Tim Scott| June 26, 2023|   half-true|        REAL|              1|NULL|REAL|\n",
            "|114|Louis Jacobson|“The family separ...|          Mike Pence|  June 8, 2023|       FALSE|        FAKE|              0|FAKE|NULL|\n",
            "|131|Louis Jacobson|\"Having \"\"biologi...|         Nikki Haley|  June 6, 2023|       FALSE|        FAKE|              0|FAKE|NULL|\n",
            "|139|Louis Jacobson|\"\"\"Every study ha...| “it puts more pe...|Kevin McCarthy|June 1, 2023| barely-true|           FAKE|   0|FAKE|\n",
            "+---+--------------+--------------------+--------------------+--------------+------------+------------+---------------+----+----+\n",
            "only showing top 5 rows\n",
            "\n"
          ]
        }
      ]
    },
    {
      "cell_type": "markdown",
      "source": [],
      "metadata": {
        "id": "TbKxMTAA8cQr"
      }
    },
    {
      "cell_type": "markdown",
      "source": [
        "#Join DataFrames"
      ],
      "metadata": {
        "id": "Pk235qgx8Wgd"
      }
    },
    {
      "cell_type": "code",
      "source": [
        "# Sorting data using orderBy() method\n",
        "sorted_df = df.orderBy(\"author\").show(5)"
      ],
      "metadata": {
        "colab": {
          "base_uri": "https://localhost:8080/"
        },
        "id": "z-vX6cSa8c7M",
        "outputId": "7b3523bb-ec2c-41f0-d2a7-817730e7429e"
      },
      "execution_count": 33,
      "outputs": [
        {
          "output_type": "stream",
          "name": "stdout",
          "text": [
            "+----------+------------+--------------------+-----------------+--------------+-----------+------------+---------------+----+----+\n",
            "|Unnamed: 0|      author|           statement|           source|          date|     target|BinaryTarget|BinaryNumTarget|Fake|Real|\n",
            "+----------+------------+--------------------+-----------------+--------------+-----------+------------+---------------+----+----+\n",
            "|      3327|Aarón Torres|“Fentanyl is the ...|      Greg Abbott|April 24, 2023|mostly-true|        REAL|              1|NULL|NULL|\n",
            "|      1827|Aarón Torres|“Fentanyl is the ...|      Greg Abbott|April 24, 2023|mostly-true|        REAL|              1|NULL|REAL|\n",
            "|       327|Aarón Torres|“Fentanyl is the ...|      Greg Abbott|April 24, 2023|mostly-true|        REAL|              1|NULL|REAL|\n",
            "|      1926|Aarón Torres|\"When discussing ...|Brandon Creighton|March 30, 2023|  half-true|        REAL|              1|NULL|REAL|\n",
            "|       469|Aarón Torres|\"\"\"Businesses lar...|      Greg Abbott|March 20, 2023|  half-true|        REAL|              1|NULL|REAL|\n",
            "+----------+------------+--------------------+-----------------+--------------+-----------+------------+---------------+----+----+\n",
            "only showing top 5 rows\n",
            "\n"
          ]
        }
      ]
    },
    {
      "cell_type": "markdown",
      "source": [
        "#Count articles per author by sql"
      ],
      "metadata": {
        "id": "pjYlOXM49GCE"
      }
    },
    {
      "cell_type": "code",
      "source": [
        "from pyspark.sql import SparkSession\n",
        "from pyspark.sql import functions as F\n",
        "\n",
        "# Start Spark session\n",
        "spark = SparkSession.builder.appName(\"AggregationExample\").getOrCreate()\n",
        "\n",
        "# Load CSV\n",
        "df = spark.read.csv(\"merged_final.csv\", header=True, inferSchema=True)\n",
        "\n",
        "# Group by Author and count\n",
        "df_agg = df.groupBy(\"author\").agg(\n",
        "    F.count(\"*\").alias(\"article_count\")\n",
        ")\n",
        "\n",
        "# Sort by highest count\n",
        "df_agg = df_agg.orderBy(F.desc(\"article_count\"))\n",
        "\n",
        "df_agg.show(10)\n"
      ],
      "metadata": {
        "colab": {
          "base_uri": "https://localhost:8080/"
        },
        "id": "7-o2zdnW9OCq",
        "outputId": "04b115cc-8a69-4a27-f523-0ae3c6770418"
      },
      "execution_count": 34,
      "outputs": [
        {
          "output_type": "stream",
          "name": "stdout",
          "text": [
            "+-----------------+-------------+\n",
            "|           author|article_count|\n",
            "+-----------------+-------------+\n",
            "|   Ciara O'Rourke|         1732|\n",
            "|     Jeff Cercone|          372|\n",
            "|Gabrielle Settles|          340|\n",
            "|    Tom Kertscher|          304|\n",
            "|   Madison Czopek|          280|\n",
            "|      Andy Nguyen|          268|\n",
            "|   Louis Jacobson|          240|\n",
            "|  Loreben Tuquero|          228|\n",
            "|      Amy Sherman|          216|\n",
            "|       Sara Swann|          196|\n",
            "+-----------------+-------------+\n",
            "only showing top 10 rows\n",
            "\n"
          ]
        }
      ]
    },
    {
      "cell_type": "markdown",
      "source": [
        "#Count distinct sources per author"
      ],
      "metadata": {
        "id": "CU0hxFXm9fw8"
      }
    },
    {
      "cell_type": "code",
      "source": [
        "df.groupBy(\"author\").agg(\n",
        "    F.countDistinct(\"source\").alias(\"unique_sources\")\n",
        ").show(10)"
      ],
      "metadata": {
        "colab": {
          "base_uri": "https://localhost:8080/"
        },
        "id": "dXPBYGCY9nQr",
        "outputId": "ca43c74a-2b92-49ec-e366-801cf31a3cfb"
      },
      "execution_count": 35,
      "outputs": [
        {
          "output_type": "stream",
          "name": "stdout",
          "text": [
            "+---------------+--------------+\n",
            "|         author|unique_sources|\n",
            "+---------------+--------------+\n",
            "|  Jon Greenberg|            15|\n",
            "|  Liam Halawith|             4|\n",
            "| Sydney Carruth|             1|\n",
            "|    Amy Sherman|            28|\n",
            "|   Warren Fiske|            15|\n",
            "|    Grace Abels|            10|\n",
            "|Faithlyn Graham|             1|\n",
            "|   Jill Terreri|            11|\n",
            "| Vanessa Swales|             7|\n",
            "|   Blake Farmer|             1|\n",
            "+---------------+--------------+\n",
            "only showing top 10 rows\n",
            "\n"
          ]
        }
      ]
    },
    {
      "cell_type": "markdown",
      "source": [
        "#Multiple aggregations in one go"
      ],
      "metadata": {
        "id": "c0R2FJ8l9zoi"
      }
    },
    {
      "cell_type": "code",
      "source": [
        "df.groupBy(\"author\").agg(\n",
        "    F.count(\"*\").alias(\"total_articles\"),\n",
        "    F.countDistinct(\"source\").alias(\"unique_sources\"),\n",
        "    F.first(\"date\").alias(\"first_article_date\"),\n",
        "    F.last(\"date\").alias(\"last_article_date\")\n",
        ").show(10)"
      ],
      "metadata": {
        "colab": {
          "base_uri": "https://localhost:8080/"
        },
        "id": "wDoI5K9N92bU",
        "outputId": "34d36d8d-02fa-4e33-b9de-ec91181ed05f"
      },
      "execution_count": 36,
      "outputs": [
        {
          "output_type": "stream",
          "name": "stdout",
          "text": [
            "+-------------+--------------+--------------+--------------------+-------------------+\n",
            "|       author|total_articles|unique_sources|  first_article_date|  last_article_date|\n",
            "+-------------+--------------+--------------+--------------------+-------------------+\n",
            "| Aarón Torres|            12|             2|      March 30, 2023|     March 20, 2023|\n",
            "| Alan Hovorka|             4|             1|     August 12, 2022|    August 12, 2022|\n",
            "| Alexis Waiss|            16|             3|    October 18, 2022|   November 2, 2022|\n",
            "|Amanda Boring|             4|             1|    October 18, 2022|   October 18, 2022|\n",
            "|  Amy Sherman|           216|            28| a total mess. Th...| September 30, 2022|\n",
            "|  Andy Nguyen|           268|            11| employee passed ...|     August 1, 2022|\n",
            "|    Ben Wells|             4|             1|    October 31, 2022|   October 31, 2022|\n",
            "| Blake Farmer|             4|             1| America First Legal|America First Legal|\n",
            "| Cameron Carr|            16|             4|       March 8, 2023|     March 29, 2023|\n",
            "| Chad Bradley|            12|             3|    November 4, 2022|   October 17, 2022|\n",
            "+-------------+--------------+--------------+--------------------+-------------------+\n",
            "only showing top 10 rows\n",
            "\n"
          ]
        }
      ]
    },
    {
      "cell_type": "markdown",
      "source": [
        "#Using SQL functions with .select()"
      ],
      "metadata": {
        "id": "EzjUiNyA-HwT"
      }
    },
    {
      "cell_type": "code",
      "source": [
        "df.select(\n",
        "    F.count(\"*\").alias(\"total_rows\"),\n",
        "    F.countDistinct(\"author\").alias(\"unique_authors\")\n",
        ").show(5)"
      ],
      "metadata": {
        "colab": {
          "base_uri": "https://localhost:8080/"
        },
        "id": "dgtYBPHr-NoE",
        "outputId": "3e37e619-1d44-495f-f6ba-00c43b19c4dc"
      },
      "execution_count": 37,
      "outputs": [
        {
          "output_type": "stream",
          "name": "stdout",
          "text": [
            "+----------+--------------+\n",
            "|total_rows|unique_authors|\n",
            "+----------+--------------+\n",
            "|      6000|            71|\n",
            "+----------+--------------+\n",
            "\n"
          ]
        }
      ]
    },
    {
      "cell_type": "markdown",
      "source": [
        "#Register as SQL table and run SQL-style aggregation"
      ],
      "metadata": {
        "id": "mLDXZNSz-c6k"
      }
    },
    {
      "cell_type": "code",
      "source": [
        "df.createOrReplaceTempView(\"mydata\")\n",
        "\n",
        "spark.sql(\"\"\"\n",
        "    SELECT author, COUNT(*) AS article_count\n",
        "    FROM mydata\n",
        "    GROUP BY author\n",
        "    ORDER BY article_count DESC\n",
        "    LIMIT 10\n",
        "\"\"\").show()\n"
      ],
      "metadata": {
        "colab": {
          "base_uri": "https://localhost:8080/"
        },
        "id": "pcadpqdI-gE1",
        "outputId": "29e3df9f-4672-45aa-b04c-68b366afa40a"
      },
      "execution_count": 38,
      "outputs": [
        {
          "output_type": "stream",
          "name": "stdout",
          "text": [
            "+-----------------+-------------+\n",
            "|           author|article_count|\n",
            "+-----------------+-------------+\n",
            "|   Ciara O'Rourke|         1732|\n",
            "|     Jeff Cercone|          372|\n",
            "|Gabrielle Settles|          340|\n",
            "|    Tom Kertscher|          304|\n",
            "|   Madison Czopek|          280|\n",
            "|      Andy Nguyen|          268|\n",
            "|   Louis Jacobson|          240|\n",
            "|  Loreben Tuquero|          228|\n",
            "|      Amy Sherman|          216|\n",
            "|       Sara Swann|          196|\n",
            "+-----------------+-------------+\n",
            "\n"
          ]
        }
      ]
    },
    {
      "cell_type": "code",
      "source": [
        "from pyspark.sql import SparkSession\n",
        "\n",
        "spark = SparkSession.builder.appName(\"LogisticRegressionExample\").getOrCreate()\n",
        "\n",
        "# Load CSV\n",
        "df = spark.read.csv(\"merged_final.csv\", header=True, inferSchema=True)\n",
        "\n",
        "df.printSchema()"
      ],
      "metadata": {
        "colab": {
          "base_uri": "https://localhost:8080/"
        },
        "id": "SkjdUo9oA2jF",
        "outputId": "5d0e4865-d47d-4427-dc75-63165a703a3b"
      },
      "execution_count": 39,
      "outputs": [
        {
          "output_type": "stream",
          "name": "stdout",
          "text": [
            "root\n",
            " |-- Unnamed: 0: integer (nullable = true)\n",
            " |-- author: string (nullable = true)\n",
            " |-- statement: string (nullable = true)\n",
            " |-- source: string (nullable = true)\n",
            " |-- date: string (nullable = true)\n",
            " |-- target: string (nullable = true)\n",
            " |-- BinaryTarget: string (nullable = true)\n",
            " |-- BinaryNumTarget: string (nullable = true)\n",
            " |-- Fake: string (nullable = true)\n",
            " |-- Real: string (nullable = true)\n",
            "\n"
          ]
        }
      ]
    },
    {
      "cell_type": "code",
      "source": [
        "from pyspark.sql.functions import when\n",
        "\n",
        "# Example: create binary label (1 if True, 0 if False)\n",
        "df = df.withColumn(\"label\", when(df[\"BinaryTarget\"] == \"REAL\", 1).otherwise(0))"
      ],
      "metadata": {
        "id": "O8GF4DyTA8xJ"
      },
      "execution_count": 40,
      "outputs": []
    },
    {
      "cell_type": "code",
      "source": [
        "df.show(5)"
      ],
      "metadata": {
        "colab": {
          "base_uri": "https://localhost:8080/"
        },
        "id": "itt5WIFjBF76",
        "outputId": "0a38fd86-57ef-41cf-80e8-355d55b829b7"
      },
      "execution_count": 41,
      "outputs": [
        {
          "output_type": "stream",
          "name": "stdout",
          "text": [
            "+----------+----------------+--------------------+---------------+-------------+-----------+------------+---------------+----+----+-----+\n",
            "|Unnamed: 0|          author|           statement|         source|         date|     target|BinaryTarget|BinaryNumTarget|Fake|Real|label|\n",
            "+----------+----------------+--------------------+---------------+-------------+-----------+------------+---------------+----+----+-----+\n",
            "|         0|Marta Campabadal|“Netflix estrenó ...| Facebook posts|June 29, 2023|      FALSE|        FAKE|              0|FAKE|NULL|    0|\n",
            "|         1|  Louis Jacobson|Says that under h...|      Joe Biden|June 29, 2023|mostly-true|        REAL|              1|NULL|REAL|    1|\n",
            "|         2|    Jeff Cercone|\"\"\"ONU ordena des...| Facebook posts|June 29, 2023|      FALSE|        FAKE|              0|FAKE|NULL|    0|\n",
            "|         3|      Sara Swann|NASA warns of “in...| Facebook posts|June 29, 2023|      FALSE|        FAKE|              0|FAKE|NULL|    0|\n",
            "|         4|    Jeff Cercone|Video suggests CO...|Instagram posts|June 29, 2023|      FALSE|        FAKE|              0|FAKE|NULL|    0|\n",
            "+----------+----------------+--------------------+---------------+-------------+-----------+------------+---------------+----+----+-----+\n",
            "only showing top 5 rows\n",
            "\n"
          ]
        }
      ]
    },
    {
      "cell_type": "code",
      "source": [
        "from pyspark.ml.feature import StringIndexer, VectorAssembler\n",
        "\n",
        "# Convert categorical text into numeric indexes\n",
        "author_indexer = StringIndexer(inputCol=\"author\", outputCol=\"author_index\")\n",
        "source_indexer = StringIndexer(inputCol=\"source\", outputCol=\"source_index\")\n",
        "\n",
        "# Assemble features into one vector\n",
        "assembler = VectorAssembler(\n",
        "    inputCols=[\"author_index\", \"source_index\"],  # add more numeric features if available\n",
        "    outputCol=\"features\"\n",
        ")"
      ],
      "metadata": {
        "id": "nCEZOeIYBUm5"
      },
      "execution_count": 42,
      "outputs": []
    },
    {
      "cell_type": "code",
      "source": [
        "train_data, test_data = df.randomSplit([0.8, 0.2], seed=42)"
      ],
      "metadata": {
        "id": "6zNFsUVtBZtL"
      },
      "execution_count": 43,
      "outputs": []
    },
    {
      "cell_type": "code",
      "source": [
        "from pyspark.ml.classification import LogisticRegression\n",
        "\n",
        "lr = LogisticRegression(featuresCol=\"features\", labelCol=\"label\")\n",
        "\n",
        "# Build pipeline\n",
        "from pyspark.ml import Pipeline\n",
        "\n",
        "pipeline = Pipeline(stages=[author_indexer, source_indexer, assembler, lr])\n",
        "\n",
        "# Train model\n",
        "model = pipeline.fit(train_data)\n"
      ],
      "metadata": {
        "id": "KDrqQeKqBcRa"
      },
      "execution_count": 44,
      "outputs": []
    },
    {
      "cell_type": "code",
      "source": [
        "predictions = model.transform(test_data)\n",
        "predictions.select(\"Author\", \"Source\", \"label\", \"prediction\", \"probability\").show(10)\n",
        "\n",
        "from pyspark.ml.evaluation import BinaryClassificationEvaluator\n",
        "\n",
        "evaluator = BinaryClassificationEvaluator(labelCol=\"label\", rawPredictionCol=\"rawPrediction\")\n",
        "print(\"Test AUC:\", evaluator.evaluate(predictions))\n"
      ],
      "metadata": {
        "colab": {
          "base_uri": "https://localhost:8080/"
        },
        "id": "iOusQTMMBh2x",
        "outputId": "afd16e15-686a-4f68-961a-b3221514acff"
      },
      "execution_count": 45,
      "outputs": [
        {
          "output_type": "stream",
          "name": "stdout",
          "text": [
            "+--------------------+---------------+-----+----------+--------------------+\n",
            "|              Author|         Source|label|prediction|         probability|\n",
            "+--------------------+---------------+-----+----------+--------------------+\n",
            "|        Jeff Cercone| Facebook posts|    0|       0.0|[0.94604377444286...|\n",
            "|       Tom Kertscher| Facebook posts|    0|       0.0|[0.93984929247315...|\n",
            "|Sofia Bliss-Carra...|Vivek Ramaswamy|    1|       0.0|[0.54531579949987...|\n",
            "|    Marta Campabadal| Facebook posts|    0|       0.0|[0.89235204140892...|\n",
            "|       Tom Kertscher|Instagram posts|    0|       0.0|[0.93946411269795...|\n",
            "|       Tom Kertscher|Instagram posts|    0|       0.0|[0.93946411269795...|\n",
            "|Sofia Bliss-Carra...|      Joe Biden|    0|       0.0|[0.66775216157029...|\n",
            "|      Ciara O'Rourke| Facebook posts|    0|       0.0|[0.94891074186131...|\n",
            "|       Tom Kertscher| Facebook posts|    0|       0.0|[0.93984929247315...|\n",
            "|       Maria Briceño| Facebook posts|    0|       0.0|[0.88669017492780...|\n",
            "+--------------------+---------------+-----+----------+--------------------+\n",
            "only showing top 10 rows\n",
            "\n",
            "Test AUC: 0.8225312465587492\n"
          ]
        }
      ]
    },
    {
      "cell_type": "markdown",
      "source": [
        "#TF–IDF Approach (Term Frequency – Inverse Document Frequency)\n",
        "#TF–IDF gives you a vector representation of text based on word importance.\n",
        "\n",
        "#Steps:\n",
        "##Tokenize — split \"Statement\" into words.\n",
        "\n",
        "##Remove stopwords — drop common words like “the”, “is”, “and”.\n",
        "\n",
        "##HashingTF — map words to term frequency vectors.\n",
        "\n",
        "##IDF — scale term frequencies by importance across the corpus.\n",
        "\n",
        "##Assemble features — combine TF–IDF vector with any other numeric features.\n",
        "\n",
        "##Train Logistic Regression"
      ],
      "metadata": {
        "id": "v6HksSYrCdQS"
      }
    },
    {
      "cell_type": "code",
      "source": [
        "df = df.filter(df.statement.isNotNull())\n",
        "df = df.filter(df.statement != \"\")"
      ],
      "metadata": {
        "id": "jsQPvGG0DpcO"
      },
      "execution_count": 51,
      "outputs": []
    },
    {
      "cell_type": "code",
      "source": [
        "df = df.filter(df.BinaryTarget.isNotNull())\n",
        "\n",
        "# Check distinct classes\n",
        "df.select(\"BinaryTarget\").distinct().show()"
      ],
      "metadata": {
        "colab": {
          "base_uri": "https://localhost:8080/"
        },
        "id": "vgGjnDUoDvGT",
        "outputId": "e5020dd8-564e-4055-978a-74dfe70c2465"
      },
      "execution_count": 53,
      "outputs": [
        {
          "output_type": "stream",
          "name": "stdout",
          "text": [
            "+--------------------+\n",
            "|        BinaryTarget|\n",
            "+--------------------+\n",
            "|               FALSE|\n",
            "|        DUI offenses|\n",
            "|      March 20, 2023|\n",
            "|     Instagram posts|\n",
            "|    October 25, 2022|\n",
            "|                FAKE|\n",
            "|    November 3, 2022|\n",
            "|                TRUE|\n",
            "|    November 2, 2022|\n",
            "|    October 12, 2022|\n",
            "|        May 26, 2023|\n",
            "|      March 17, 2023|\n",
            "|     August 18, 2022|\n",
            "|          pants-fire|\n",
            "|    November 4, 2022|\n",
            "|      Facebook posts|\n",
            "|     August 26, 2022|\n",
            "|           half-true|\n",
            "|       July 29, 2022|\n",
            "|American Leadersh...|\n",
            "+--------------------+\n",
            "only showing top 20 rows\n",
            "\n"
          ]
        }
      ]
    },
    {
      "cell_type": "code",
      "source": [
        "from pyspark.sql import SparkSession\n",
        "from pyspark.sql.functions import col, when\n",
        "\n",
        "# 1️⃣ Start Spark Session\n",
        "spark = SparkSession.builder \\\n",
        "    .appName(\"FakeNews_TFIDF_LR\") \\\n",
        "    .getOrCreate()\n",
        "\n",
        "# 2️⃣ Load CSV\n",
        "df = spark.read.csv(\"merged_final.csv\", header=True, inferSchema=True)\n",
        "\n",
        "# 3️⃣ Keep only needed columns\n",
        "# Adjust column names if your CSV is different\n",
        "df = df.select(\"statement\", \"BinaryTarget\")\n",
        "\n",
        "# 4️⃣ Clean Data - Remove nulls & empty text\n",
        "df = df.filter(col(\"statement\").isNotNull())\n",
        "df = df.filter(col(\"statement\") != \"\")\n",
        "df = df.filter(col(\"BinaryTarget\").isNotNull())\n",
        "\n",
        "# 5️⃣ Create binary label column\n",
        "# Example: TRUE → 1, FALSE → 0\n",
        "df = df.withColumn(\"label\", when(col(\"BinaryTarget\") == \"REAL\", 1).otherwise(0))\n",
        "\n",
        "# 6️⃣ Tokenize, Remove Stopwords, Apply TF–IDF\n",
        "from pyspark.ml.feature import Tokenizer, StopWordsRemover, HashingTF, IDF\n",
        "\n",
        "tokenizer = Tokenizer(inputCol=\"statement\", outputCol=\"words\")\n",
        "remover = StopWordsRemover(inputCol=\"words\", outputCol=\"filtered_words\")\n",
        "hashingTF = HashingTF(inputCol=\"filtered_words\", outputCol=\"raw_features\", numFeatures=10000)\n",
        "idf = IDF(inputCol=\"raw_features\", outputCol=\"features\")\n",
        "\n",
        "# 7️⃣ Logistic Regression\n",
        "from pyspark.ml.classification import LogisticRegression\n",
        "lr = LogisticRegression(featuresCol=\"features\", labelCol=\"label\")\n",
        "\n",
        "# 8️⃣ Pipeline\n",
        "from pyspark.ml import Pipeline\n",
        "pipeline = Pipeline(stages=[tokenizer, remover, hashingTF, idf, lr])\n",
        "\n",
        "# 9️⃣ Train/Test Split — Ensure both have at least 2 classes\n",
        "train, test = df.randomSplit([0.8, 0.2], seed=42)\n",
        "\n",
        "# Check class counts\n",
        "train_labels = train.select(\"label\").distinct().count()\n",
        "test_labels = test.select(\"label\").distinct().count()\n",
        "\n",
        "if train_labels < 2 or test_labels < 2:\n",
        "    raise ValueError(\"Train/Test split does not contain both label classes. Adjust split or data.\")\n",
        "\n",
        "# 🔟 Train model\n",
        "model = pipeline.fit(train)\n",
        "\n",
        "# 1️⃣1️⃣ Predictions\n",
        "predictions = model.transform(test)\n",
        "predictions.select(\"Statement\", \"label\", \"prediction\", \"probability\").show(10, truncate=50)\n",
        "\n",
        "# 1️⃣2️⃣ Evaluation\n",
        "from pyspark.ml.evaluation import BinaryClassificationEvaluator\n",
        "evaluator = BinaryClassificationEvaluator(labelCol=\"label\", rawPredictionCol=\"rawPrediction\")\n",
        "\n",
        "auc = evaluator.evaluate(predictions)\n",
        "print(\"Test AUC:\", auc)\n"
      ],
      "metadata": {
        "colab": {
          "base_uri": "https://localhost:8080/"
        },
        "id": "QGsQK-VbEFJb",
        "outputId": "a5665ff2-06f0-4906-d254-893bc8efedda"
      },
      "execution_count": 57,
      "outputs": [
        {
          "output_type": "stream",
          "name": "stdout",
          "text": [
            "+--------------------------------------------------+-----+----------+-------------------------------------------+\n",
            "|                                         Statement|label|prediction|                                probability|\n",
            "+--------------------------------------------------+-----+----------+-------------------------------------------+\n",
            "|\"\"\"$1 of every $3 (Ron DeSantis) spends comes f...|    1|       1.0|[1.9295205448382902E-14,0.9999999999999807]|\n",
            "|\"\"\"$12 billion more for Ukraine on top of $100+...|    0|       0.0| [0.9999999985905492,1.4094507783113386E-9]|\n",
            "|\"\"\"(Ron) DeSantis' bill would remove: backgroun...|    0|       0.0|  [0.999999999050547,9.494529606968172E-10]|\n",
            "|                                              \"\"\"1|    0|       0.0| [0.9999999877102878,1.2289712247870455E-8]|\n",
            "|\"\"\"40% of the folks who have student loans do n...|    0|       0.0|  [0.9999999995672884,4.32711644293704E-10]|\n",
            "|                                             \"\"\"55|    0|       0.0|  [0.9999999993239916,6.76008360400715E-10]|\n",
            "|                                      \"\"\"A Jackson|    0|       0.0| [0.9999999990149442,9.850558146951016E-10]|\n",
            "|\"\"\"Adam Laxalt fought an investigation into the...|    0|       0.0| [0.9999999985293895,1.4706105222472843E-9]|\n",
            "|\"\"\"AirPods are essentially microwaving your bra...|    0|       0.0| [0.9999999991441357,8.558642683453854E-10]|\n",
            "|\"\"\"AirPods are essentially microwaving your bra...|    0|       0.0| [0.9999999991441357,8.558642683453854E-10]|\n",
            "+--------------------------------------------------+-----+----------+-------------------------------------------+\n",
            "only showing top 10 rows\n",
            "\n",
            "Test AUC: 1.0\n"
          ]
        }
      ]
    },
    {
      "cell_type": "code",
      "source": [
        "# Check if any statement appears in both train and test\n",
        "train_statements = set([row.statement for row in train.collect()])\n",
        "test_statements = set([row.statement for row in test.collect()])\n",
        "overlap = train_statements.intersection(test_statements)\n",
        "print(f\"Overlap count: {len(overlap)}\")"
      ],
      "metadata": {
        "colab": {
          "base_uri": "https://localhost:8080/"
        },
        "id": "XltWrXPsCmur",
        "outputId": "38b786fb-bf2d-48ef-dd84-053972448a15"
      },
      "execution_count": 59,
      "outputs": [
        {
          "output_type": "stream",
          "name": "stdout",
          "text": [
            "Overlap count: 870\n"
          ]
        }
      ]
    },
    {
      "cell_type": "code",
      "source": [
        "# Remove exact duplicates based on 'Statement'\n",
        "df_clean = df.dropDuplicates([\"statement\"])\n",
        "\n",
        "# Now split into train/test without leakage\n",
        "train, test = df_clean.randomSplit([0.8, 0.2], seed=42)"
      ],
      "metadata": {
        "id": "DtPta0fJFdZK"
      },
      "execution_count": 60,
      "outputs": []
    },
    {
      "cell_type": "code",
      "source": [
        "from pyspark.ml.tuning import CrossValidator, ParamGridBuilder\n",
        "from pyspark.ml.evaluation import BinaryClassificationEvaluator\n",
        "\n",
        "cv = CrossValidator(\n",
        "    estimator=pipeline,\n",
        "    estimatorParamMaps=ParamGridBuilder().build(),\n",
        "    evaluator=BinaryClassificationEvaluator(),\n",
        "    numFolds=5\n",
        ")\n",
        "\n",
        "cvModel = cv.fit(df_clean)"
      ],
      "metadata": {
        "id": "Z1r6PeUoFhna"
      },
      "execution_count": 61,
      "outputs": []
    },
    {
      "cell_type": "code",
      "source": [
        "from pyspark.sql import SparkSession\n",
        "from pyspark.ml.feature import Tokenizer, StopWordsRemover, HashingTF, IDF, StringIndexer\n",
        "from pyspark.ml.classification import LogisticRegression\n",
        "from pyspark.ml import Pipeline\n",
        "from pyspark.ml.evaluation import BinaryClassificationEvaluator\n",
        "from pyspark.sql.functions import col\n",
        "\n",
        "# -------------------\n",
        "# 1. Start Spark Session\n",
        "# -------------------\n",
        "spark = SparkSession.builder \\\n",
        "    .appName(\"LogisticRegressionTFIDF_Binary\") \\\n",
        "    .getOrCreate()\n",
        "\n",
        "# -------------------\n",
        "# 2. Load Data\n",
        "# -------------------\n",
        "df = spark.read.csv(\"merged_final.csv\", header=True, inferSchema=True)\n",
        "\n",
        "# -------------------\n",
        "# 3. Ensure Binary Labels\n",
        "# -------------------\n",
        "# Keep only rows where BinaryTarget is 0, 1, True, or False\n",
        "df_clean = df.filter(col(\"BinaryTarget\").isin(0, 1, \"0\", \"1\", \"REAL\", \"FAKE\"))\n",
        "\n",
        "# Drop duplicates on text column to avoid leakage\n",
        "df_clean = df_clean.dropDuplicates([\"statement\"])\n",
        "\n",
        "# -------------------\n",
        "# 4. Prepare ML Pipeline\n",
        "# -------------------\n",
        "# Convert label to numeric (0 or 1)\n",
        "label_indexer = StringIndexer(inputCol=\"BinaryTarget\", outputCol=\"label\")\n",
        "\n",
        "# Tokenize text\n",
        "tokenizer = Tokenizer(inputCol=\"statement\", outputCol=\"words\")\n",
        "\n",
        "# Remove stop words\n",
        "remover = StopWordsRemover(inputCol=\"words\", outputCol=\"filtered\")\n",
        "\n",
        "# Term Frequency\n",
        "hashingTF = HashingTF(inputCol=\"filtered\", outputCol=\"rawFeatures\", numFeatures=5000)\n",
        "\n",
        "# Inverse Document Frequency\n",
        "idf = IDF(inputCol=\"rawFeatures\", outputCol=\"features\")\n",
        "\n",
        "# Logistic Regression (binary)\n",
        "lr = LogisticRegression(featuresCol=\"features\", labelCol=\"label\", maxIter=20, regParam=0.01)\n",
        "\n",
        "# Full pipeline\n",
        "pipeline = Pipeline(stages=[label_indexer, tokenizer, remover, hashingTF, idf, lr])\n",
        "\n",
        "# -------------------\n",
        "# 5. Train-Test Split\n",
        "# -------------------\n",
        "train, test = df_clean.randomSplit([0.8, 0.2], seed=42)\n",
        "\n",
        "# -------------------\n",
        "# 6. Train Model\n",
        "# -------------------\n",
        "model = pipeline.fit(train)\n",
        "\n",
        "# -------------------\n",
        "# 7. Predictions\n",
        "# -------------------\n",
        "predictions = model.transform(test)\n",
        "\n",
        "# -------------------\n",
        "# 8. Evaluation\n",
        "# -------------------\n",
        "evaluator = BinaryClassificationEvaluator(labelCol=\"label\", metricName=\"areaUnderROC\")\n",
        "auc = evaluator.evaluate(predictions)\n",
        "\n",
        "predictions.select(\"statement\", \"BinaryTarget\", \"prediction\", \"probability\").show(10, truncate=True)\n",
        "print(f\"Test AUC: {auc:.3f}\")\n"
      ],
      "metadata": {
        "colab": {
          "base_uri": "https://localhost:8080/"
        },
        "id": "2sASqUwZMnqC",
        "outputId": "9ab5594a-400c-4ea4-becf-8cc25f968eaa"
      },
      "execution_count": 70,
      "outputs": [
        {
          "output_type": "stream",
          "name": "stdout",
          "text": [
            "+--------------------+------------+----------+--------------------+\n",
            "|           statement|BinaryTarget|prediction|         probability|\n",
            "+--------------------+------------+----------+--------------------+\n",
            "|\"\"\"ONU ordena des...|        FAKE|       0.0|[0.90312630561064...|\n",
            "|Kevin McCarthy “a...|        FAKE|       0.0|[0.99526859058133...|\n",
            "|“Young Americans ...|        REAL|       0.0|[0.90285793023803...|\n",
            "|Fotos muestran ro...|        FAKE|       0.0|[0.98060549147396...|\n",
            "|NASA space rocket...|        FAKE|       0.0|[0.99531850605277...|\n",
            "|NASA faked footag...|        FAKE|       0.0|[0.99721811928742...|\n",
            "|\"\"\"We have plans ...|        FAKE|       0.0|[0.99508719150334...|\n",
            "|The Guantanamo Ba...|        FAKE|       0.0|[0.99849860857151...|\n",
            "|A lawyer for form...|        FAKE|       0.0|[0.99437959057207...|\n",
            "|\"\"\"Mel Gibson ha ...|        FAKE|       0.0|[0.99538345670950...|\n",
            "+--------------------+------------+----------+--------------------+\n",
            "only showing top 10 rows\n",
            "\n",
            "Test AUC: 0.700\n"
          ]
        }
      ]
    },
    {
      "cell_type": "markdown",
      "source": [
        "#PySpark Assignment: Loan Data Analysis\n",
        "#Dataset: loan.csv (contains loan applications with customer details, loan amount, purpose, and status)\n",
        "\n",
        "#Objective:\n",
        "##We will use PySpark to load, process, and analyze the loan dataset, applying DataFrame operations, Spark SQL, and Machine Learning concepts.\n",
        "\n",
        "##Part 1 — Data Loading & Exploration\n",
        "###Start a SparkSession in PySpark.\n",
        "\n",
        "###Load loan.csv into a PySpark DataFrame with headers.\n",
        "\n",
        "###Display the first 10 rows of the dataset.\n",
        "\n",
        "###Show the schema of the DataFrame.\n",
        "\n",
        "###Count the total number of records.\n",
        "\n",
        "##Part 2 — Data Cleaning\n",
        "###Remove duplicate rows.\n",
        "\n",
        "####Handle missing values:\n",
        "\n",
        "###Drop rows with missing loan_status or loan_amnt.\n",
        "\n",
        "###Convert numeric columns to the correct data types (e.g., loan_amnt to integer).\n",
        "\n",
        "##Part 3 — Data Analysis\n",
        "###Find the average loan amount for each loan purpose.\n",
        "\n",
        "###Count how many loans were Fully Paid vs Charged Off.\n",
        "\n",
        "###Find the top 5 loan purposes by average funded amount.\n",
        "\n",
        "##Part 4 — Spark SQL\n",
        "###Register the DataFrame as a temporary SQL view.\n",
        "\n",
        "###Using Spark SQL:\n",
        "\n",
        "###Get the loan purpose with the highest default rate.\n",
        "\n",
        "###Find the state with the most charged-off loans.\n",
        "\n",
        "##Part 5 — Machine Learning (Optional)\n",
        "###Use StringIndexer to encode categorical columns like purpose and loan_status.\n",
        "\n",
        "###Use VectorAssembler to combine features.\n",
        "\n",
        "###Train a Logistic Regression model to predict loan_status (binary classification: Fully Paid vs Charged Off).\n",
        "\n",
        "###Evaluate model accuracy."
      ],
      "metadata": {
        "id": "rKebYjFXQ6Rk"
      }
    },
    {
      "cell_type": "code",
      "source": [],
      "metadata": {
        "id": "04O5Ib2fRSj9"
      },
      "execution_count": null,
      "outputs": []
    }
  ]
}